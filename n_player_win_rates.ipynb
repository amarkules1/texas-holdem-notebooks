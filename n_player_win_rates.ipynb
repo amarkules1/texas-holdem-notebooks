{
 "cells": [
  {
   "cell_type": "markdown",
   "metadata": {},
   "source": [
    "# Goal: Given a head to head win probability for player 1, what's the probability that player 1 beats N others?\n",
    "\n",
    "Seems straightforward at first. Say player 1 has a 50% win rate against one other player ($W_1 = 0.5, N = 1$). Then if there are 2 other players($W_1 = 0.5, N = 2$), the probability that player 1 beats them both is the probability that player 1 beats player 2 times the probability that player 1 beats player 3:\n",
    "\n",
    "$$ W_2 = W_1 ^ N $$\n",
    "\n",
    "$$ W_2 = 0.5 ^ 2 = 0.25 $$\n",
    "\n",
    "On the other hand, if there are 3 players and they all have an equal chance of winning, then the probability that player 1 is the winner should be the same as the odds that player 2 is the winner, and the same probability that player 3 is the winner, so:\n",
    "\n",
    "$$ W_2 = 1/N\\ given\\ W_1 = 0.5 $$\n",
    "\n",
    "or maybe more generally something like:\n",
    "\n",
    "$$ W_2 = 1/N * (2 * W_1) for N >= 1$$\n"
   ]
  },
  {
   "cell_type": "code",
   "execution_count": 1,
   "metadata": {},
   "outputs": [],
   "source": [
    "# this gets us W_1 for some given set of cards known to player 1\n",
    "from texas_hold_em_utils.hands import HandOfFive\n",
    "from texas_hold_em_utils.deck import Deck\n",
    "\n",
    "\n",
    "def rank_hand(hand, community_cards):\n",
    "    \"\"\"\n",
    "    Ranks a hand of two cards and 3-5 five community cards relative to all other possible hands, based only on known cards\n",
    "    :param hand: a list of 2 cards (Card objects)\n",
    "    :param community_cards: a list of 3-5 cards (Card objects)\n",
    "    :return: a tuple of the number of wins, losses, and ties for the given hand\n",
    "    \"\"\"\n",
    "    player_hand = HandOfFive(hand, community_cards)\n",
    "    deck1 = Deck()\n",
    "    deck2 = Deck()\n",
    "    wins = 0\n",
    "    losses = 0\n",
    "    ties = 0\n",
    "    for card1 in deck1.cards:\n",
    "        if card1 not in hand + community_cards:\n",
    "            for card2 in deck2.cards:\n",
    "                if card2 not in hand + community_cards and card2 != card1:\n",
    "                    other_hand = HandOfFive([card1, card2], community_cards)\n",
    "                    if player_hand > other_hand:\n",
    "                        wins += 1\n",
    "                    elif player_hand < other_hand:\n",
    "                        losses += 1\n",
    "                    else:\n",
    "                        ties += 1\n",
    "    return wins, losses, ties"
   ]
  },
  {
   "cell_type": "code",
   "execution_count": 3,
   "metadata": {},
   "outputs": [],
   "source": [
    "# W_2 version\n",
    "def rank_hand_against_2_players(hand, community_cards):\n",
    "    player_hand = HandOfFive(hand, community_cards)\n",
    "    deck1 = Deck()\n",
    "    deck2 = Deck()\n",
    "    deck3 = Deck()\n",
    "    deck4 = Deck()\n",
    "    wins = 0\n",
    "    losses = 0\n",
    "    ties = 0\n",
    "    for card1 in deck1.cards:\n",
    "        if card1 not in hand + community_cards:\n",
    "            for card2 in deck2.cards:\n",
    "                if card2 not in hand + community_cards and card2 != card1:\n",
    "                    other_hand_1 = HandOfFive([card1, card2], community_cards)\n",
    "                    for card3 in deck3.cards:\n",
    "                        if card3 not in hand + community_cards and card3 != card1 and card3 != card2:\n",
    "                            for card4 in deck4.cards:\n",
    "                                other_hand_2 = HandOfFive([card3, card4], community_cards)\n",
    "                                if player_hand > other_hand_1 and player_hand > other_hand_2:\n",
    "                                    wins += 1\n",
    "                                elif player_hand < other_hand_1 or player_hand < other_hand_2:\n",
    "                                    losses += 1\n",
    "                                else:\n",
    "                                    ties += 1\n",
    "    return wins, losses, ties"
   ]
  },
  {
   "cell_type": "code",
   "execution_count": 4,
   "metadata": {},
   "outputs": [
    {
     "name": "stdout",
     "output_type": "stream",
     "text": [
      "[<texas_hold_em_utils.card.Card object at 0x000001C948793110>, <texas_hold_em_utils.card.Card object at 0x000001C948790510>] [<texas_hold_em_utils.card.Card object at 0x000001C948793010>, <texas_hold_em_utils.card.Card object at 0x000001C9485DADD0>, <texas_hold_em_utils.card.Card object at 0x000001C94875FFD0>, <texas_hold_em_utils.card.Card object at 0x000001C9485DBD10>, <texas_hold_em_utils.card.Card object at 0x000001C94875D050>]\n",
      "(856, 1112, 12)\n",
      "(744928, 3655376, 26976)\n"
     ]
    }
   ],
   "source": [
    "import pandas as pd\n",
    "\n",
    "rnd_deck = Deck()\n",
    "rnd_deck.shuffle()\n",
    "\n",
    "hand = []\n",
    "hand.append(rnd_deck.draw())\n",
    "hand.append(rnd_deck.draw())\n",
    "community_cards = []\n",
    "community_cards.append(rnd_deck.draw())\n",
    "community_cards.append(rnd_deck.draw())\n",
    "community_cards.append(rnd_deck.draw())\n",
    "community_cards.append(rnd_deck.draw())\n",
    "community_cards.append(rnd_deck.draw())\n",
    "\n",
    "print(hand, community_cards)\n",
    "print(rank_hand(hand, community_cards))\n",
    "print(rank_hand_against_2_players(hand, community_cards))"
   ]
  },
  {
   "cell_type": "code",
   "execution_count": 7,
   "metadata": {},
   "outputs": [],
   "source": [
    "df = pd.DataFrame(columns=['wins_1', 'losses_1', 'ties_1', 'wins_2', 'losses_2', 'ties_2'])\n",
    "\n",
    "for i in range(250):\n",
    "    rnd_deck = Deck()\n",
    "    rnd_deck.shuffle()\n",
    "\n",
    "    hand = []\n",
    "    hand.append(rnd_deck.draw())\n",
    "    hand.append(rnd_deck.draw())\n",
    "    community_cards = []\n",
    "    community_cards.append(rnd_deck.draw())\n",
    "    community_cards.append(rnd_deck.draw())\n",
    "    community_cards.append(rnd_deck.draw())\n",
    "    community_cards.append(rnd_deck.draw())\n",
    "    community_cards.append(rnd_deck.draw())\n",
    "    \n",
    "    wins_1, losses_1, ties_1 = rank_hand(hand, community_cards)\n",
    "    wins_2, losses_2, ties_2 = rank_hand_against_2_players(hand, community_cards)\n",
    "    \n",
    "    df = pd.concat([df, pd.DataFrame({'wins_1': [wins_1], 'losses_1': [losses_1], 'ties_1': [ties_1], 'wins_2': [wins_2], 'losses_2': [losses_2], 'ties_2': [ties_2]})])"
   ]
  },
  {
   "cell_type": "code",
   "execution_count": null,
   "metadata": {},
   "outputs": [],
   "source": [
    "df.to_csv('data/win_rate_vs_n_players.csv', index=False)"
   ]
  }
 ],
 "metadata": {
  "kernelspec": {
   "display_name": ".venv",
   "language": "python",
   "name": "python3"
  },
  "language_info": {
   "codemirror_mode": {
    "name": "ipython",
    "version": 3
   },
   "file_extension": ".py",
   "mimetype": "text/x-python",
   "name": "python",
   "nbconvert_exporter": "python",
   "pygments_lexer": "ipython3",
   "version": "3.11.0"
  },
  "orig_nbformat": 4
 },
 "nbformat": 4,
 "nbformat_minor": 2
}
