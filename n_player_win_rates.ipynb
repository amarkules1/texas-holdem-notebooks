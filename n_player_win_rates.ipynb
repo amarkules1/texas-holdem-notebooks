{
 "cells": [
  {
   "cell_type": "markdown",
   "metadata": {},
   "source": [
    "# Goal: Given a head to head win probability for player 1, what's the probability that player 1 beats N others?\n",
    "\n",
    "Seems straightforward at first. Say player 1 has a 50% win rate against one other player ($W_1 = 0.5, N = 1$). Then if there are 2 other players($W_1 = 0.5, N = 2$), the probability that player 1 beats them both is the probability that player 1 beats player 2 times the probability that player 1 beats player 3:\n",
    "\n",
    "$$ W_2 = W_1 ^ N $$\n",
    "\n",
    "$$ W_2 = 0.5 ^ 2 = 0.25 $$\n",
    "\n",
    "On the other hand, if there are 3 players and they all have an equal chance of winning, then the probability that player 1 is the winner should be the same as the odds that player 2 is the winner, and the same probability that player 3 is the winner, so:\n",
    "\n",
    "$$ W_2 = 1/N\\ given\\ W_1 = 0.5 $$\n",
    "\n",
    "or maybe more generally something like:\n",
    "\n",
    "$$ W_2 = 1/N * (2 * W_1) for N >= 1$$\n"
   ]
  },
  {
   "cell_type": "code",
   "execution_count": 4,
   "metadata": {},
   "outputs": [],
   "source": [
    "# this gets us W_1 for some given set of cards known to player 1\n",
    "from texas_hold_em_utils.hands import HandOfFive\n",
    "from texas_hold_em_utils.deck import Deck\n",
    "\n",
    "\n",
    "def rank_hand(hand, community_cards):\n",
    "    \"\"\"\n",
    "    Ranks a hand of two cards and 3-5 five community cards relative to all other possible hands, based only on known cards\n",
    "    :param hand: a list of 2 cards (Card objects)\n",
    "    :param community_cards: a list of 3-5 cards (Card objects)\n",
    "    :return: a tuple of the number of wins, losses, and ties for the given hand\n",
    "    \"\"\"\n",
    "    player_hand = HandOfFive(hand, community_cards)\n",
    "    deck1 = Deck()\n",
    "    deck2 = Deck()\n",
    "    wins = 0\n",
    "    losses = 0\n",
    "    ties = 0\n",
    "    for card1 in deck1.cards:\n",
    "        if card1 not in hand + community_cards:\n",
    "            for card2 in deck2.cards:\n",
    "                if card2 not in hand + community_cards and card2 != card1:\n",
    "                    other_hand = HandOfFive([card1, card2], community_cards)\n",
    "                    if player_hand > other_hand:\n",
    "                        wins += 1\n",
    "                    elif player_hand < other_hand:\n",
    "                        losses += 1\n",
    "                    else:\n",
    "                        ties += 1\n",
    "    return wins, losses, ties"
   ]
  },
  {
   "cell_type": "code",
   "execution_count": 5,
   "metadata": {},
   "outputs": [],
   "source": [
    "# W_2 version\n",
    "def rank_hand_against_2_players(hand, community_cards):\n",
    "    player_hand = HandOfFive(hand, community_cards)\n",
    "    deck1 = Deck()\n",
    "    deck2 = Deck()\n",
    "    deck3 = Deck()\n",
    "    deck4 = Deck()\n",
    "    wins = 0\n",
    "    losses = 0\n",
    "    ties = 0\n",
    "    for card1 in deck1.cards:\n",
    "        if card1 not in hand + community_cards:\n",
    "            for card2 in deck2.cards:\n",
    "                if card2 not in hand + community_cards and card2 != card1:\n",
    "                    other_hand_1 = HandOfFive([card1, card2], community_cards)\n",
    "                    for card3 in deck3.cards:\n",
    "                        if card3 not in hand + community_cards and card3 != card1 and card3 != card2:\n",
    "                            for card4 in deck4.cards:\n",
    "                                other_hand_2 = HandOfFive([card3, card4], community_cards)\n",
    "                                if player_hand > other_hand_1 and player_hand > other_hand_2:\n",
    "                                    wins += 1\n",
    "                                elif player_hand < other_hand_1 or player_hand < other_hand_2:\n",
    "                                    losses += 1\n",
    "                                else:\n",
    "                                    ties += 1\n",
    "    return wins, losses, ties"
   ]
  },
  {
   "cell_type": "code",
   "execution_count": 6,
   "metadata": {},
   "outputs": [
    {
     "name": "stdout",
     "output_type": "stream",
     "text": [
      "[<texas_hold_em_utils.card.Card object at 0x00000271C88C74D0>, <texas_hold_em_utils.card.Card object at 0x00000271C88C44D0>] [<texas_hold_em_utils.card.Card object at 0x00000271C88A5110>, <texas_hold_em_utils.card.Card object at 0x00000271C88C6C10>, <texas_hold_em_utils.card.Card object at 0x00000271C88C6750>, <texas_hold_em_utils.card.Card object at 0x00000271C88C6B90>, <texas_hold_em_utils.card.Card object at 0x00000271C88C5FD0>]\n",
      "(1384, 584, 12)\n",
      "(2092128, 2290240, 44912)\n"
     ]
    }
   ],
   "source": [
    "import pandas as pd\n",
    "\n",
    "rnd_deck = Deck()\n",
    "rnd_deck.shuffle()\n",
    "\n",
    "hand = []\n",
    "hand.append(rnd_deck.draw())\n",
    "hand.append(rnd_deck.draw())\n",
    "community_cards = []\n",
    "community_cards.append(rnd_deck.draw())\n",
    "community_cards.append(rnd_deck.draw())\n",
    "community_cards.append(rnd_deck.draw())\n",
    "community_cards.append(rnd_deck.draw())\n",
    "community_cards.append(rnd_deck.draw())\n",
    "\n",
    "print(hand, community_cards)\n",
    "print(rank_hand(hand, community_cards))\n",
    "print(rank_hand_against_2_players(hand, community_cards))"
   ]
  },
  {
   "cell_type": "code",
   "execution_count": 7,
   "metadata": {},
   "outputs": [],
   "source": [
    "df = pd.DataFrame(columns=['wins_1', 'losses_1', 'ties_1', 'wins_2', 'losses_2', 'ties_2'])\n",
    "\n",
    "for i in range(250):\n",
    "    rnd_deck = Deck()\n",
    "    rnd_deck.shuffle()\n",
    "\n",
    "    hand = []\n",
    "    hand.append(rnd_deck.draw())\n",
    "    hand.append(rnd_deck.draw())\n",
    "    community_cards = []\n",
    "    community_cards.append(rnd_deck.draw())\n",
    "    community_cards.append(rnd_deck.draw())\n",
    "    community_cards.append(rnd_deck.draw())\n",
    "    community_cards.append(rnd_deck.draw())\n",
    "    community_cards.append(rnd_deck.draw())\n",
    "    \n",
    "    wins_1, losses_1, ties_1 = rank_hand(hand, community_cards)\n",
    "    wins_2, losses_2, ties_2 = rank_hand_against_2_players(hand, community_cards)\n",
    "    \n",
    "    df = pd.concat([df, pd.DataFrame({'wins_1': [wins_1], 'losses_1': [losses_1], 'ties_1': [ties_1], 'wins_2': [wins_2], 'losses_2': [losses_2], 'ties_2': [ties_2]})])"
   ]
  },
  {
   "cell_type": "code",
   "execution_count": 8,
   "metadata": {},
   "outputs": [],
   "source": [
    "df.to_csv('data/win_rate_vs_n_players.csv', index=False)"
   ]
  },
  {
   "cell_type": "code",
   "execution_count": 10,
   "metadata": {},
   "outputs": [],
   "source": [
    "df['win_rate_1'] = ((df['wins_1'] * 2) + df['ties_1']) / ((df['wins_1'] + df['losses_1'] + df['ties_1']) *2)"
   ]
  },
  {
   "cell_type": "code",
   "execution_count": 11,
   "metadata": {},
   "outputs": [],
   "source": [
    "df['win_rate_2'] = ((df['wins_2'] * 2) + df['ties_2']) / ((df['wins_2'] + df['losses_2'] + df['ties_2']) *2)"
   ]
  },
  {
   "cell_type": "code",
   "execution_count": 12,
   "metadata": {},
   "outputs": [
    {
     "data": {
      "text/plain": [
       "<Axes: xlabel='win_rate_1', ylabel='win_rate_2'>"
      ]
     },
     "execution_count": 12,
     "metadata": {},
     "output_type": "execute_result"
    },
    {
     "data": {
      "image/png": "[encoded data removed]",
      "text/plain": [
       "<Figure size 640x480 with 1 Axes>"
      ]
     },
     "metadata": {},
     "output_type": "display_data"
    }
   ],
   "source": [
    "df.plot(x='win_rate_1', y='win_rate_2', kind='scatter')"
   ]
  },
  {
   "cell_type": "code",
   "execution_count": 13,
   "metadata": {},
   "outputs": [
    {
     "data": {
      "text/plain": [
       "0.9618075901027451"
      ]
     },
     "execution_count": 13,
     "metadata": {},
     "output_type": "execute_result"
    }
   ],
   "source": [
    "df['win_rate_1'].corr(df['win_rate_2'])"
   ]
  },
  {
   "cell_type": "code",
   "execution_count": 14,
   "metadata": {},
   "outputs": [
    {
     "data": {
      "text/plain": [
       "0.9982443433911925"
      ]
     },
     "execution_count": 14,
     "metadata": {},
     "output_type": "execute_result"
    }
   ],
   "source": [
    "df['win_rate_1_sq'] = df['win_rate_1'] * df['win_rate_1']\n",
    "df['win_rate_1_sq'].corr(df['win_rate_2'])"
   ]
  },
  {
   "cell_type": "code",
   "execution_count": 15,
   "metadata": {},
   "outputs": [
    {
     "data": {
      "text/html": [
       "<div>\n",
       "<style scoped>\n",
       "    .dataframe tbody tr th:only-of-type {\n",
       "        vertical-align: middle;\n",
       "    }\n",
       "\n",
       "    .dataframe tbody tr th {\n",
       "        vertical-align: top;\n",
       "    }\n",
       "\n",
       "    .dataframe thead th {\n",
       "        text-align: right;\n",
       "    }\n",
       "</style>\n",
       "<table border=\"1\" class=\"dataframe\">\n",
       "  <thead>\n",
       "    <tr style=\"text-align: right;\">\n",
       "      <th></th>\n",
       "      <th>wins_1</th>\n",
       "      <th>losses_1</th>\n",
       "      <th>ties_1</th>\n",
       "      <th>wins_2</th>\n",
       "      <th>losses_2</th>\n",
       "      <th>ties_2</th>\n",
       "      <th>win_rate_1</th>\n",
       "      <th>win_rate_2</th>\n",
       "      <th>win_rate_1_sq</th>\n",
       "    </tr>\n",
       "  </thead>\n",
       "  <tbody>\n",
       "    <tr>\n",
       "      <th>0</th>\n",
       "      <td>1874</td>\n",
       "      <td>100</td>\n",
       "      <td>6</td>\n",
       "      <td>3801632</td>\n",
       "      <td>584416</td>\n",
       "      <td>41232</td>\n",
       "      <td>0.94798</td>\n",
       "      <td>0.86334</td>\n",
       "      <td>0.898666</td>\n",
       "    </tr>\n",
       "    <tr>\n",
       "      <th>0</th>\n",
       "      <td>1818</td>\n",
       "      <td>116</td>\n",
       "      <td>46</td>\n",
       "      <td>3498000</td>\n",
       "      <td>631608</td>\n",
       "      <td>297672</td>\n",
       "      <td>0.929798</td>\n",
       "      <td>0.823719</td>\n",
       "      <td>0.864524</td>\n",
       "    </tr>\n",
       "    <tr>\n",
       "      <th>0</th>\n",
       "      <td>1340</td>\n",
       "      <td>628</td>\n",
       "      <td>12</td>\n",
       "      <td>1916224</td>\n",
       "      <td>2468048</td>\n",
       "      <td>43008</td>\n",
       "      <td>0.679798</td>\n",
       "      <td>0.437679</td>\n",
       "      <td>0.462125</td>\n",
       "    </tr>\n",
       "    <tr>\n",
       "      <th>0</th>\n",
       "      <td>1666</td>\n",
       "      <td>142</td>\n",
       "      <td>172</td>\n",
       "      <td>3045312</td>\n",
       "      <td>685270</td>\n",
       "      <td>696698</td>\n",
       "      <td>0.884848</td>\n",
       "      <td>0.766534</td>\n",
       "      <td>0.782957</td>\n",
       "    </tr>\n",
       "    <tr>\n",
       "      <th>0</th>\n",
       "      <td>0</td>\n",
       "      <td>984</td>\n",
       "      <td>996</td>\n",
       "      <td>0</td>\n",
       "      <td>3413538</td>\n",
       "      <td>1013742</td>\n",
       "      <td>0.251515</td>\n",
       "      <td>0.114488</td>\n",
       "      <td>0.06326</td>\n",
       "    </tr>\n",
       "    <tr>\n",
       "      <th>0</th>\n",
       "      <td>482</td>\n",
       "      <td>1480</td>\n",
       "      <td>18</td>\n",
       "      <td>226648</td>\n",
       "      <td>4181316</td>\n",
       "      <td>19316</td>\n",
       "      <td>0.24798</td>\n",
       "      <td>0.053375</td>\n",
       "      <td>0.061494</td>\n",
       "    </tr>\n",
       "    <tr>\n",
       "      <th>0</th>\n",
       "      <td>1436</td>\n",
       "      <td>532</td>\n",
       "      <td>12</td>\n",
       "      <td>2201320</td>\n",
       "      <td>2179376</td>\n",
       "      <td>46584</td>\n",
       "      <td>0.728283</td>\n",
       "      <td>0.502478</td>\n",
       "      <td>0.530396</td>\n",
       "    </tr>\n",
       "    <tr>\n",
       "      <th>0</th>\n",
       "      <td>1332</td>\n",
       "      <td>496</td>\n",
       "      <td>152</td>\n",
       "      <td>1786656</td>\n",
       "      <td>2104112</td>\n",
       "      <td>536512</td>\n",
       "      <td>0.711111</td>\n",
       "      <td>0.464148</td>\n",
       "      <td>0.505679</td>\n",
       "    </tr>\n",
       "    <tr>\n",
       "      <th>0</th>\n",
       "      <td>976</td>\n",
       "      <td>1002</td>\n",
       "      <td>2</td>\n",
       "      <td>982784</td>\n",
       "      <td>3435168</td>\n",
       "      <td>9328</td>\n",
       "      <td>0.493434</td>\n",
       "      <td>0.223037</td>\n",
       "      <td>0.243477</td>\n",
       "    </tr>\n",
       "    <tr>\n",
       "      <th>0</th>\n",
       "      <td>856</td>\n",
       "      <td>1112</td>\n",
       "      <td>12</td>\n",
       "      <td>729152</td>\n",
       "      <td>3671312</td>\n",
       "      <td>26816</td>\n",
       "      <td>0.435354</td>\n",
       "      <td>0.167724</td>\n",
       "      <td>0.189533</td>\n",
       "    </tr>\n",
       "    <tr>\n",
       "      <th>0</th>\n",
       "      <td>1378</td>\n",
       "      <td>590</td>\n",
       "      <td>12</td>\n",
       "      <td>2044136</td>\n",
       "      <td>2338784</td>\n",
       "      <td>44360</td>\n",
       "      <td>0.69899</td>\n",
       "      <td>0.466724</td>\n",
       "      <td>0.488587</td>\n",
       "    </tr>\n",
       "    <tr>\n",
       "      <th>0</th>\n",
       "      <td>840</td>\n",
       "      <td>978</td>\n",
       "      <td>162</td>\n",
       "      <td>682080</td>\n",
       "      <td>3427776</td>\n",
       "      <td>317424</td>\n",
       "      <td>0.465152</td>\n",
       "      <td>0.189912</td>\n",
       "      <td>0.216366</td>\n",
       "    </tr>\n",
       "    <tr>\n",
       "      <th>0</th>\n",
       "      <td>288</td>\n",
       "      <td>1578</td>\n",
       "      <td>114</td>\n",
       "      <td>78336</td>\n",
       "      <td>4266480</td>\n",
       "      <td>82464</td>\n",
       "      <td>0.174242</td>\n",
       "      <td>0.027007</td>\n",
       "      <td>0.03036</td>\n",
       "    </tr>\n",
       "    <tr>\n",
       "      <th>0</th>\n",
       "      <td>1112</td>\n",
       "      <td>728</td>\n",
       "      <td>140</td>\n",
       "      <td>1207680</td>\n",
       "      <td>2812000</td>\n",
       "      <td>407600</td>\n",
       "      <td>0.59697</td>\n",
       "      <td>0.318814</td>\n",
       "      <td>0.356373</td>\n",
       "    </tr>\n",
       "    <tr>\n",
       "      <th>0</th>\n",
       "      <td>1502</td>\n",
       "      <td>466</td>\n",
       "      <td>12</td>\n",
       "      <td>2435008</td>\n",
       "      <td>1943680</td>\n",
       "      <td>48592</td>\n",
       "      <td>0.761616</td>\n",
       "      <td>0.555489</td>\n",
       "      <td>0.580059</td>\n",
       "    </tr>\n",
       "    <tr>\n",
       "      <th>0</th>\n",
       "      <td>896</td>\n",
       "      <td>1076</td>\n",
       "      <td>8</td>\n",
       "      <td>824400</td>\n",
       "      <td>3585180</td>\n",
       "      <td>17700</td>\n",
       "      <td>0.454545</td>\n",
       "      <td>0.188208</td>\n",
       "      <td>0.206612</td>\n",
       "    </tr>\n",
       "    <tr>\n",
       "      <th>0</th>\n",
       "      <td>1542</td>\n",
       "      <td>376</td>\n",
       "      <td>62</td>\n",
       "      <td>2525376</td>\n",
       "      <td>1559424</td>\n",
       "      <td>342480</td>\n",
       "      <td>0.794444</td>\n",
       "      <td>0.609091</td>\n",
       "      <td>0.631142</td>\n",
       "    </tr>\n",
       "    <tr>\n",
       "      <th>0</th>\n",
       "      <td>1104</td>\n",
       "      <td>848</td>\n",
       "      <td>28</td>\n",
       "      <td>1275696</td>\n",
       "      <td>3070616</td>\n",
       "      <td>80968</td>\n",
       "      <td>0.564646</td>\n",
       "      <td>0.297289</td>\n",
       "      <td>0.318826</td>\n",
       "    </tr>\n",
       "    <tr>\n",
       "      <th>0</th>\n",
       "      <td>1906</td>\n",
       "      <td>66</td>\n",
       "      <td>8</td>\n",
       "      <td>4042728</td>\n",
       "      <td>338168</td>\n",
       "      <td>46384</td>\n",
       "      <td>0.964646</td>\n",
       "      <td>0.918379</td>\n",
       "      <td>0.930543</td>\n",
       "    </tr>\n",
       "    <tr>\n",
       "      <th>0</th>\n",
       "      <td>1258</td>\n",
       "      <td>710</td>\n",
       "      <td>12</td>\n",
       "      <td>1637984</td>\n",
       "      <td>2748936</td>\n",
       "      <td>40360</td>\n",
       "      <td>0.638384</td>\n",
       "      <td>0.374533</td>\n",
       "      <td>0.407534</td>\n",
       "    </tr>\n",
       "    <tr>\n",
       "      <th>0</th>\n",
       "      <td>288</td>\n",
       "      <td>1602</td>\n",
       "      <td>90</td>\n",
       "      <td>78336</td>\n",
       "      <td>4285824</td>\n",
       "      <td>63120</td>\n",
       "      <td>0.168182</td>\n",
       "      <td>0.024822</td>\n",
       "      <td>0.028285</td>\n",
       "    </tr>\n",
       "    <tr>\n",
       "      <th>0</th>\n",
       "      <td>288</td>\n",
       "      <td>1602</td>\n",
       "      <td>90</td>\n",
       "      <td>78336</td>\n",
       "      <td>4285824</td>\n",
       "      <td>63120</td>\n",
       "      <td>0.168182</td>\n",
       "      <td>0.024822</td>\n",
       "      <td>0.028285</td>\n",
       "    </tr>\n",
       "    <tr>\n",
       "      <th>0</th>\n",
       "      <td>516</td>\n",
       "      <td>1462</td>\n",
       "      <td>2</td>\n",
       "      <td>269442</td>\n",
       "      <td>4153476</td>\n",
       "      <td>4362</td>\n",
       "      <td>0.261111</td>\n",
       "      <td>0.061352</td>\n",
       "      <td>0.068179</td>\n",
       "    </tr>\n",
       "    <tr>\n",
       "      <th>0</th>\n",
       "      <td>0</td>\n",
       "      <td>648</td>\n",
       "      <td>1332</td>\n",
       "      <td>0</td>\n",
       "      <td>2562480</td>\n",
       "      <td>1864800</td>\n",
       "      <td>0.336364</td>\n",
       "      <td>0.210603</td>\n",
       "      <td>0.11314</td>\n",
       "    </tr>\n",
       "    <tr>\n",
       "      <th>0</th>\n",
       "      <td>176</td>\n",
       "      <td>1786</td>\n",
       "      <td>18</td>\n",
       "      <td>31168</td>\n",
       "      <td>4389008</td>\n",
       "      <td>7104</td>\n",
       "      <td>0.093434</td>\n",
       "      <td>0.007842</td>\n",
       "      <td>0.00873</td>\n",
       "    </tr>\n",
       "    <tr>\n",
       "      <th>0</th>\n",
       "      <td>1914</td>\n",
       "      <td>58</td>\n",
       "      <td>8</td>\n",
       "      <td>4044344</td>\n",
       "      <td>336328</td>\n",
       "      <td>46608</td>\n",
       "      <td>0.968687</td>\n",
       "      <td>0.918769</td>\n",
       "      <td>0.938354</td>\n",
       "    </tr>\n",
       "    <tr>\n",
       "      <th>0</th>\n",
       "      <td>1910</td>\n",
       "      <td>70</td>\n",
       "      <td>0</td>\n",
       "      <td>4021492</td>\n",
       "      <td>405788</td>\n",
       "      <td>0</td>\n",
       "      <td>0.964646</td>\n",
       "      <td>0.908344</td>\n",
       "      <td>0.930543</td>\n",
       "    </tr>\n",
       "    <tr>\n",
       "      <th>0</th>\n",
       "      <td>80</td>\n",
       "      <td>1834</td>\n",
       "      <td>66</td>\n",
       "      <td>5760</td>\n",
       "      <td>4406256</td>\n",
       "      <td>15264</td>\n",
       "      <td>0.057071</td>\n",
       "      <td>0.003025</td>\n",
       "      <td>0.003257</td>\n",
       "    </tr>\n",
       "    <tr>\n",
       "      <th>0</th>\n",
       "      <td>820</td>\n",
       "      <td>1148</td>\n",
       "      <td>12</td>\n",
       "      <td>653904</td>\n",
       "      <td>3747440</td>\n",
       "      <td>25936</td>\n",
       "      <td>0.417172</td>\n",
       "      <td>0.150628</td>\n",
       "      <td>0.174032</td>\n",
       "    </tr>\n",
       "    <tr>\n",
       "      <th>0</th>\n",
       "      <td>1822</td>\n",
       "      <td>142</td>\n",
       "      <td>16</td>\n",
       "      <td>3709412</td>\n",
       "      <td>646446</td>\n",
       "      <td>71422</td>\n",
       "      <td>0.924242</td>\n",
       "      <td>0.84592</td>\n",
       "      <td>0.854224</td>\n",
       "    </tr>\n",
       "    <tr>\n",
       "      <th>0</th>\n",
       "      <td>280</td>\n",
       "      <td>1682</td>\n",
       "      <td>18</td>\n",
       "      <td>76064</td>\n",
       "      <td>4339648</td>\n",
       "      <td>11568</td>\n",
       "      <td>0.14596</td>\n",
       "      <td>0.018487</td>\n",
       "      <td>0.021304</td>\n",
       "    </tr>\n",
       "    <tr>\n",
       "      <th>0</th>\n",
       "      <td>1274</td>\n",
       "      <td>694</td>\n",
       "      <td>12</td>\n",
       "      <td>1688528</td>\n",
       "      <td>2697896</td>\n",
       "      <td>40856</td>\n",
       "      <td>0.646465</td>\n",
       "      <td>0.386006</td>\n",
       "      <td>0.417917</td>\n",
       "    </tr>\n",
       "    <tr>\n",
       "      <th>0</th>\n",
       "      <td>288</td>\n",
       "      <td>1626</td>\n",
       "      <td>66</td>\n",
       "      <td>78336</td>\n",
       "      <td>4304016</td>\n",
       "      <td>44928</td>\n",
       "      <td>0.162121</td>\n",
       "      <td>0.022768</td>\n",
       "      <td>0.026283</td>\n",
       "    </tr>\n",
       "    <tr>\n",
       "      <th>0</th>\n",
       "      <td>1532</td>\n",
       "      <td>388</td>\n",
       "      <td>60</td>\n",
       "      <td>2406032</td>\n",
       "      <td>1788552</td>\n",
       "      <td>232696</td>\n",
       "      <td>0.788889</td>\n",
       "      <td>0.569736</td>\n",
       "      <td>0.622346</td>\n",
       "    </tr>\n",
       "    <tr>\n",
       "      <th>0</th>\n",
       "      <td>594</td>\n",
       "      <td>1346</td>\n",
       "      <td>40</td>\n",
       "      <td>336312</td>\n",
       "      <td>4038046</td>\n",
       "      <td>52922</td>\n",
       "      <td>0.310101</td>\n",
       "      <td>0.08194</td>\n",
       "      <td>0.096163</td>\n",
       "    </tr>\n",
       "    <tr>\n",
       "      <th>0</th>\n",
       "      <td>0</td>\n",
       "      <td>1722</td>\n",
       "      <td>258</td>\n",
       "      <td>0</td>\n",
       "      <td>4361232</td>\n",
       "      <td>66048</td>\n",
       "      <td>0.065152</td>\n",
       "      <td>0.007459</td>\n",
       "      <td>0.004245</td>\n",
       "    </tr>\n",
       "    <tr>\n",
       "      <th>0</th>\n",
       "      <td>1392</td>\n",
       "      <td>576</td>\n",
       "      <td>12</td>\n",
       "      <td>2046504</td>\n",
       "      <td>2335792</td>\n",
       "      <td>44984</td>\n",
       "      <td>0.706061</td>\n",
       "      <td>0.467329</td>\n",
       "      <td>0.498522</td>\n",
       "    </tr>\n",
       "    <tr>\n",
       "      <th>0</th>\n",
       "      <td>1548</td>\n",
       "      <td>316</td>\n",
       "      <td>116</td>\n",
       "      <td>2484896</td>\n",
       "      <td>1465280</td>\n",
       "      <td>477104</td>\n",
       "      <td>0.811111</td>\n",
       "      <td>0.615152</td>\n",
       "      <td>0.657901</td>\n",
       "    </tr>\n",
       "    <tr>\n",
       "      <th>0</th>\n",
       "      <td>768</td>\n",
       "      <td>1194</td>\n",
       "      <td>18</td>\n",
       "      <td>584832</td>\n",
       "      <td>3811056</td>\n",
       "      <td>31392</td>\n",
       "      <td>0.392424</td>\n",
       "      <td>0.135643</td>\n",
       "      <td>0.153997</td>\n",
       "    </tr>\n",
       "    <tr>\n",
       "      <th>0</th>\n",
       "      <td>1474</td>\n",
       "      <td>494</td>\n",
       "      <td>12</td>\n",
       "      <td>2356112</td>\n",
       "      <td>2023536</td>\n",
       "      <td>47632</td>\n",
       "      <td>0.747475</td>\n",
       "      <td>0.53756</td>\n",
       "      <td>0.558718</td>\n",
       "    </tr>\n",
       "  </tbody>\n",
       "</table>\n",
       "</div>"
      ],
      "text/plain": [
       "  wins_1 losses_1 ties_1   wins_2 losses_2   ties_2 win_rate_1 win_rate_2  \\\n",
       "0   1874      100      6  3801632   584416    41232    0.94798    0.86334   \n",
       "0   1818      116     46  3498000   631608   297672   0.929798   0.823719   \n",
       "0   1340      628     12  1916224  2468048    43008   0.679798   0.437679   \n",
       "0   1666      142    172  3045312   685270   696698   0.884848   0.766534   \n",
       "0      0      984    996        0  3413538  1013742   0.251515   0.114488   \n",
       "0    482     1480     18   226648  4181316    19316    0.24798   0.053375   \n",
       "0   1436      532     12  2201320  2179376    46584   0.728283   0.502478   \n",
       "0   1332      496    152  1786656  2104112   536512   0.711111   0.464148   \n",
       "0    976     1002      2   982784  3435168     9328   0.493434   0.223037   \n",
       "0    856     1112     12   729152  3671312    26816   0.435354   0.167724   \n",
       "0   1378      590     12  2044136  2338784    44360    0.69899   0.466724   \n",
       "0    840      978    162   682080  3427776   317424   0.465152   0.189912   \n",
       "0    288     1578    114    78336  4266480    82464   0.174242   0.027007   \n",
       "0   1112      728    140  1207680  2812000   407600    0.59697   0.318814   \n",
       "0   1502      466     12  2435008  1943680    48592   0.761616   0.555489   \n",
       "0    896     1076      8   824400  3585180    17700   0.454545   0.188208   \n",
       "0   1542      376     62  2525376  1559424   342480   0.794444   0.609091   \n",
       "0   1104      848     28  1275696  3070616    80968   0.564646   0.297289   \n",
       "0   1906       66      8  4042728   338168    46384   0.964646   0.918379   \n",
       "0   1258      710     12  1637984  2748936    40360   0.638384   0.374533   \n",
       "0    288     1602     90    78336  4285824    63120   0.168182   0.024822   \n",
       "0    288     1602     90    78336  4285824    63120   0.168182   0.024822   \n",
       "0    516     1462      2   269442  4153476     4362   0.261111   0.061352   \n",
       "0      0      648   1332        0  2562480  1864800   0.336364   0.210603   \n",
       "0    176     1786     18    31168  4389008     7104   0.093434   0.007842   \n",
       "0   1914       58      8  4044344   336328    46608   0.968687   0.918769   \n",
       "0   1910       70      0  4021492   405788        0   0.964646   0.908344   \n",
       "0     80     1834     66     5760  4406256    15264   0.057071   0.003025   \n",
       "0    820     1148     12   653904  3747440    25936   0.417172   0.150628   \n",
       "0   1822      142     16  3709412   646446    71422   0.924242    0.84592   \n",
       "0    280     1682     18    76064  4339648    11568    0.14596   0.018487   \n",
       "0   1274      694     12  1688528  2697896    40856   0.646465   0.386006   \n",
       "0    288     1626     66    78336  4304016    44928   0.162121   0.022768   \n",
       "0   1532      388     60  2406032  1788552   232696   0.788889   0.569736   \n",
       "0    594     1346     40   336312  4038046    52922   0.310101    0.08194   \n",
       "0      0     1722    258        0  4361232    66048   0.065152   0.007459   \n",
       "0   1392      576     12  2046504  2335792    44984   0.706061   0.467329   \n",
       "0   1548      316    116  2484896  1465280   477104   0.811111   0.615152   \n",
       "0    768     1194     18   584832  3811056    31392   0.392424   0.135643   \n",
       "0   1474      494     12  2356112  2023536    47632   0.747475    0.53756   \n",
       "\n",
       "  win_rate_1_sq  \n",
       "0      0.898666  \n",
       "0      0.864524  \n",
       "0      0.462125  \n",
       "0      0.782957  \n",
       "0       0.06326  \n",
       "0      0.061494  \n",
       "0      0.530396  \n",
       "0      0.505679  \n",
       "0      0.243477  \n",
       "0      0.189533  \n",
       "0      0.488587  \n",
       "0      0.216366  \n",
       "0       0.03036  \n",
       "0      0.356373  \n",
       "0      0.580059  \n",
       "0      0.206612  \n",
       "0      0.631142  \n",
       "0      0.318826  \n",
       "0      0.930543  \n",
       "0      0.407534  \n",
       "0      0.028285  \n",
       "0      0.028285  \n",
       "0      0.068179  \n",
       "0       0.11314  \n",
       "0       0.00873  \n",
       "0      0.938354  \n",
       "0      0.930543  \n",
       "0      0.003257  \n",
       "0      0.174032  \n",
       "0      0.854224  \n",
       "0      0.021304  \n",
       "0      0.417917  \n",
       "0      0.026283  \n",
       "0      0.622346  \n",
       "0      0.096163  \n",
       "0      0.004245  \n",
       "0      0.498522  \n",
       "0      0.657901  \n",
       "0      0.153997  \n",
       "0      0.558718  "
      ]
     },
     "execution_count": 15,
     "metadata": {},
     "output_type": "execute_result"
    }
   ],
   "source": [
    "df.head(40)"
   ]
  },
  {
   "cell_type": "code",
   "execution_count": 16,
   "metadata": {},
   "outputs": [
    {
     "data": {
      "text/plain": [
       "<Axes: >"
      ]
     },
     "execution_count": 16,
     "metadata": {},
     "output_type": "execute_result"
    },
    {
     "data": {
      "image/png": "[encoded data removed]",
      "text/plain": [
       "<Figure size 640x480 with 1 Axes>"
      ]
     },
     "metadata": {},
     "output_type": "display_data"
    }
   ],
   "source": [
    "df['error'] = df['win_rate_1_sq'] - df['win_rate_2']\n",
    "df['error'].hist()"
   ]
  },
  {
   "cell_type": "markdown",
   "metadata": {},
   "source": [
    "# Conclusion\n",
    "\n",
    "$W_N$ is approximated by $W_1^N$ "
   ]
  },
  {
   "cell_type": "markdown",
   "metadata": {},
   "source": [
    "Well... there could be some issue with the way I'm generating the numbers here. Maybe I should try a different method and see if I get the same results. \n",
    "\n",
    "Process:\n",
    "1. Shuffle the deck\n",
    "2. Get 2 random cards as a hand\n",
    "3. Get 5 random community cards\n",
    "4. Do 100 iterations of picking 2 random hands from the remaining cards\n",
    "5. Record the expected 2 player win rate and the actual 3 player win rate\n",
    "6. Do the same analysis as above"
   ]
  },
  {
   "cell_type": "code",
   "execution_count": 23,
   "metadata": {},
   "outputs": [],
   "source": [
    "import copy\n",
    "\n",
    "def rank_hand_against_2_player_samples(hand, community_cards, sample_size=100):\n",
    "    deck = Deck()\n",
    "    deck.remove(hand[0])\n",
    "    deck.remove(hand[1])\n",
    "    deck.remove(community_cards[0])\n",
    "    deck.remove(community_cards[1])\n",
    "    deck.remove(community_cards[2])\n",
    "    deck.remove(community_cards[3])\n",
    "    deck.remove(community_cards[4])\n",
    "    \n",
    "    wins = 0.0\n",
    "    \n",
    "    for i in range(sample_size):\n",
    "        deck_cpy = copy.deepcopy(deck)\n",
    "        deck_cpy.shuffle()\n",
    "        \n",
    "        hand_2 = [deck_cpy.draw(), deck_cpy.draw()]\n",
    "        hand_3 = [deck_cpy.draw(), deck_cpy.draw()]\n",
    "        \n",
    "        hand_1_obj = HandOfFive(hand, community_cards)\n",
    "        hand_2_obj = HandOfFive(hand_2, community_cards)\n",
    "        hand_3_obj = HandOfFive(hand_3, community_cards)\n",
    "        \n",
    "        if hand_1_obj > hand_2_obj and hand_1_obj > hand_3_obj:\n",
    "            wins += 1\n",
    "        elif hand_1_obj == hand_2_obj and hand_1_obj == hand_3_obj:\n",
    "            wins += 0.33333\n",
    "        elif (hand_1_obj == hand_2_obj and hand_1_obj > hand_3_obj) or (hand_1_obj > hand_2_obj and hand_1_obj == hand_3_obj):\n",
    "            wins += 0.5\n",
    "            \n",
    "    return wins/sample_size\n",
    "        "
   ]
  },
  {
   "cell_type": "code",
   "execution_count": 17,
   "metadata": {},
   "outputs": [
    {
     "name": "stdout",
     "output_type": "stream",
     "text": [
      "[<texas_hold_em_utils.card.Card object at 0x00000271C8887AD0>, <texas_hold_em_utils.card.Card object at 0x00000271C8885890>] [<texas_hold_em_utils.card.Card object at 0x00000271C7381910>, <texas_hold_em_utils.card.Card object at 0x00000271C8887110>, <texas_hold_em_utils.card.Card object at 0x00000271C7381A50>, <texas_hold_em_utils.card.Card object at 0x00000271C8886450>, <texas_hold_em_utils.card.Card object at 0x00000271C8887590>]\n",
      "(0, 1834, 146)\n",
      "0.065\n"
     ]
    }
   ],
   "source": [
    "import pandas as pd\n",
    "\n",
    "rnd_deck = Deck()\n",
    "rnd_deck.shuffle()\n",
    "\n",
    "hand = []\n",
    "hand.append(rnd_deck.draw())\n",
    "hand.append(rnd_deck.draw())\n",
    "community_cards = []\n",
    "community_cards.append(rnd_deck.draw())\n",
    "community_cards.append(rnd_deck.draw())\n",
    "community_cards.append(rnd_deck.draw())\n",
    "community_cards.append(rnd_deck.draw())\n",
    "community_cards.append(rnd_deck.draw())\n",
    "\n",
    "print(hand, community_cards)\n",
    "print(rank_hand(hand, community_cards))\n",
    "print(rank_hand_against_2_player_samples(hand, community_cards))"
   ]
  },
  {
   "cell_type": "code",
   "execution_count": 25,
   "metadata": {},
   "outputs": [
    {
     "name": "stderr",
     "output_type": "stream",
     "text": [
      "C:\\Users\\amarl\\AppData\\Local\\Temp\\ipykernel_19752\\1508088115.py:19: FutureWarning: The behavior of DataFrame concatenation with empty or all-NA entries is deprecated. In a future version, this will no longer exclude empty or all-NA columns when determining the result dtypes. To retain the old behavior, exclude the relevant entries before the concat operation.\n",
      "  df = pd.concat([df, pd.DataFrame({'W_1': [w_1], 'W_2': [w_2]})])\n"
     ]
    }
   ],
   "source": [
    "import pandas as pd\n",
    "\n",
    "df = pd.DataFrame(columns=['W_1', 'W_2'])\n",
    "\n",
    "for i in range(1000):\n",
    "    deck = Deck()\n",
    "    deck.shuffle()\n",
    "    hand = [deck.draw(), deck.draw()]\n",
    "    community_cards = []\n",
    "    community_cards.append(deck.draw())\n",
    "    community_cards.append(deck.draw())\n",
    "    community_cards.append(deck.draw())\n",
    "    community_cards.append(deck.draw())\n",
    "    community_cards.append(deck.draw())\n",
    "    \n",
    "    wins_1, losses_1, ties_1 = rank_hand(hand, community_cards)\n",
    "    w_1 = (wins_1 + (0.5 * ties_1)) / (wins_1 + losses_1 + ties_1)\n",
    "    w_2 = rank_hand_against_2_player_samples(hand, community_cards, sample_size=100)\n",
    "    df = pd.concat([df, pd.DataFrame({'W_1': [w_1], 'W_2': [w_2]})])"
   ]
  },
  {
   "cell_type": "code",
   "execution_count": null,
   "metadata": {},
   "outputs": [
    {
     "data": {
      "text/plain": [
       "44"
      ]
     },
     "execution_count": 21,
     "metadata": {},
     "output_type": "execute_result"
    }
   ],
   "source": [
    "df.to_csv('data/win_rate_vs_n_players_v2.csv', index=False)"
   ]
  },
  {
   "cell_type": "code",
   "execution_count": 26,
   "metadata": {},
   "outputs": [
    {
     "data": {
      "text/plain": [
       "<Axes: xlabel='W_1', ylabel='W_2'>"
      ]
     },
     "execution_count": 26,
     "metadata": {},
     "output_type": "execute_result"
    },
    {
     "data": {
      "image/png": "[encoded data removed]",
      "text/plain": [
       "<Figure size 640x480 with 1 Axes>"
      ]
     },
     "metadata": {},
     "output_type": "display_data"
    }
   ],
   "source": [
    "df.plot(x='W_1', y='W_2', kind='scatter')"
   ]
  },
  {
   "cell_type": "code",
   "execution_count": 27,
   "metadata": {},
   "outputs": [
    {
     "data": {
      "text/plain": [
       "0.9592602794523754"
      ]
     },
     "execution_count": 27,
     "metadata": {},
     "output_type": "execute_result"
    }
   ],
   "source": [
    "df['W_1'].corr(df['W_2'])"
   ]
  },
  {
   "cell_type": "code",
   "execution_count": 28,
   "metadata": {},
   "outputs": [
    {
     "data": {
      "text/plain": [
       "0.9940245423292096"
      ]
     },
     "execution_count": 28,
     "metadata": {},
     "output_type": "execute_result"
    }
   ],
   "source": [
    "df['W_1_sq'] = df['W_1'] * df['W_1']\n",
    "df['W_1_sq'].corr(df['W_2'])"
   ]
  },
  {
   "cell_type": "code",
   "execution_count": 29,
   "metadata": {},
   "outputs": [
    {
     "data": {
      "text/plain": [
       "<Axes: >"
      ]
     },
     "execution_count": 29,
     "metadata": {},
     "output_type": "execute_result"
    },
    {
     "data": {
      "image/png": "[encoded data removed]",
      "text/plain": [
       "<Figure size 640x480 with 1 Axes>"
      ]
     },
     "metadata": {},
     "output_type": "display_data"
    }
   ],
   "source": [
    "df['error'] = df['W_1_sq'] - df['W_2']\n",
    "df['error'].hist()"
   ]
  },
  {
   "cell_type": "markdown",
   "metadata": {},
   "source": [
    "High correlation with the error distribution being normal and centered around 0. perfect. the original work seems to be correct"
   ]
  },
  {
   "cell_type": "markdown",
   "metadata": {},
   "source": [
    "It's far less expensive to do it this way, better try 4 and 5 to make sure the formula matches up"
   ]
  },
  {
   "cell_type": "code",
   "execution_count": 30,
   "metadata": {},
   "outputs": [],
   "source": [
    "def rank_hand_against_player_samples(hand, community_cards, sample_size=100, num_other_players = 2):\n",
    "    deck = Deck()\n",
    "    deck.remove(hand[0])\n",
    "    deck.remove(hand[1])\n",
    "    deck.remove(community_cards[0])\n",
    "    deck.remove(community_cards[1])\n",
    "    deck.remove(community_cards[2])\n",
    "    deck.remove(community_cards[3])\n",
    "    deck.remove(community_cards[4])\n",
    "    \n",
    "    wins = 0.0\n",
    "    \n",
    "    for i in range(sample_size):\n",
    "        deck_cpy = copy.deepcopy(deck)\n",
    "        deck_cpy.shuffle()\n",
    "        \n",
    "        other_hands = []\n",
    "        for j in range(num_other_players):\n",
    "            other_hands.append([deck_cpy.draw(), deck_cpy.draw()])\n",
    "        \n",
    "        other_hands_obj = [HandOfFive(other_hand, community_cards) for other_hand in other_hands]\n",
    "        \n",
    "        hand_1_obj = HandOfFive(hand, community_cards)\n",
    "        \n",
    "        lost_to = []\n",
    "        tied_with = []\n",
    "        \n",
    "        for hand_obj in other_hands_obj:\n",
    "            if hand_obj > hand_1_obj:\n",
    "                lost_to.append(hand_obj)\n",
    "            elif hand_obj == hand_1_obj:\n",
    "                tied_with.append(hand_obj)\n",
    "                \n",
    "        if len(lost_to) == 0:\n",
    "            if len(tied_with) == 0:\n",
    "                wins += 1\n",
    "            else:\n",
    "                wins += 1/(len(tied_with) + 1)\n",
    "            \n",
    "    return wins/sample_size"
   ]
  },
  {
   "cell_type": "code",
   "execution_count": 31,
   "metadata": {},
   "outputs": [
    {
     "name": "stderr",
     "output_type": "stream",
     "text": [
      "C:\\Users\\amarl\\AppData\\Local\\Temp\\ipykernel_19752\\3457769102.py:21: FutureWarning: The behavior of DataFrame concatenation with empty or all-NA entries is deprecated. In a future version, this will no longer exclude empty or all-NA columns when determining the result dtypes. To retain the old behavior, exclude the relevant entries before the concat operation.\n",
      "  df = pd.concat([df, pd.DataFrame({'W_1': [w_1], 'W_2': [w_2], 'W_3': [w_3], 'W_4': [w_4]})])\n"
     ]
    }
   ],
   "source": [
    "import pandas as pd\n",
    "\n",
    "df = pd.DataFrame(columns=['W_1', 'W_2'])\n",
    "\n",
    "for i in range(300):\n",
    "    deck = Deck()\n",
    "    deck.shuffle()\n",
    "    hand = [deck.draw(), deck.draw()]\n",
    "    community_cards = []\n",
    "    community_cards.append(deck.draw())\n",
    "    community_cards.append(deck.draw())\n",
    "    community_cards.append(deck.draw())\n",
    "    community_cards.append(deck.draw())\n",
    "    community_cards.append(deck.draw())\n",
    "    \n",
    "    wins_1, losses_1, ties_1 = rank_hand(hand, community_cards)\n",
    "    w_1 = (wins_1 + (0.5 * ties_1)) / (wins_1 + losses_1 + ties_1)\n",
    "    w_2 = rank_hand_against_player_samples(hand, community_cards, sample_size=100)\n",
    "    w_3 = rank_hand_against_player_samples(hand, community_cards, sample_size=100, num_other_players = 3)\n",
    "    w_4 = rank_hand_against_player_samples(hand, community_cards, sample_size=100, num_other_players = 4)\n",
    "    df = pd.concat([df, pd.DataFrame({'W_1': [w_1], 'W_2': [w_2], 'W_3': [w_3], 'W_4': [w_4]})])"
   ]
  },
  {
   "cell_type": "code",
   "execution_count": 32,
   "metadata": {},
   "outputs": [
    {
     "name": "stdout",
     "output_type": "stream",
     "text": [
      "0.9937286343133435\n",
      "0.994023862174392\n",
      "0.9936367424561481\n"
     ]
    }
   ],
   "source": [
    "df['W_1_sq'] = df['W_1'] * df['W_1']\n",
    "df['W_1_cu'] = df['W_1'] * df['W_1'] * df['W_1']\n",
    "df['W_1_qu'] = df['W_1'] * df['W_1'] * df['W_1'] * df['W_1']\n",
    "print(df['W_1_sq'].corr(df['W_2']))\n",
    "print(df['W_1_cu'].corr(df['W_3']))\n",
    "print(df['W_1_qu'].corr(df['W_4']))"
   ]
  },
  {
   "cell_type": "code",
   "execution_count": 34,
   "metadata": {},
   "outputs": [
    {
     "data": {
      "text/plain": [
       "<Axes: >"
      ]
     },
     "execution_count": 34,
     "metadata": {},
     "output_type": "execute_result"
    },
    {
     "data": {
      "image/png": "[encoded data removed]",
      "text/plain": [
       "<Figure size 640x480 with 1 Axes>"
      ]
     },
     "metadata": {},
     "output_type": "display_data"
    }
   ],
   "source": [
    "df['error_2'] = df['W_1_sq'] - df['W_2']\n",
    "df['error_3'] = df['W_1_cu'] - df['W_3']\n",
    "df['error_4'] = df['W_1_qu'] - df['W_4']\n",
    "\n",
    "df['error_2'].hist()\n",
    "df['error_3'].hist()\n",
    "df['error_4'].hist()"
   ]
  },
  {
   "cell_type": "markdown",
   "metadata": {},
   "source": [
    "Not gonna get much more definitive than that. $W_N$ is approximated by $W_1^N$ "
   ]
  }
 ],
 "metadata": {
  "kernelspec": {
   "display_name": ".venv",
   "language": "python",
   "name": "python3"
  },
  "language_info": {
   "codemirror_mode": {
    "name": "ipython",
    "version": 3
   },
   "file_extension": ".py",
   "mimetype": "text/x-python",
   "name": "python",
   "nbconvert_exporter": "python",
   "pygments_lexer": "ipython3",
   "version": "3.11.0"
  },
  "orig_nbformat": 4
 },
 "nbformat": 4,
 "nbformat_minor": 2
}
