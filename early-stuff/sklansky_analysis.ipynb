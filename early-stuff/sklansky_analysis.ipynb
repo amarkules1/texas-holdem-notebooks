{
 "cells": [
  {
   "cell_type": "code",
   "execution_count": 1,
   "metadata": {},
   "outputs": [],
   "source": [
    "from dotenv import load_dotenv, find_dotenv\n",
    "_ = load_dotenv(find_dotenv())\n",
    "import os\n",
    "import sqlalchemy\n",
    "\n",
    "conn = sqlalchemy.create_engine(os.getenv(\"SUPABASE_CONN_STRING\")).connect()"
   ]
  },
  {
   "cell_type": "code",
   "execution_count": 3,
   "metadata": {},
   "outputs": [],
   "source": [
    "import pandas as pd\n",
    "from sqlalchemy import sql\n",
    "\n",
    "data = pd.read_sql(sql.text(\"SELECT * FROM poker.two_player_game_odds\"), conn)"
   ]
  },
  {
   "cell_type": "code",
   "execution_count": 4,
   "metadata": {},
   "outputs": [
    {
     "data": {
      "text/plain": [
       "Index(['card_1', 'card_2', 'count', 'wins', 'win_rate', 'rank', 'percentile',\n",
       "       'sklansky', 'sklansky_position', 'modified_sklansky',\n",
       "       'modified_sklansky_position'],\n",
       "      dtype='object')"
      ]
     },
     "execution_count": 4,
     "metadata": {},
     "output_type": "execute_result"
    }
   ],
   "source": [
    "data.columns"
   ]
  },
  {
   "cell_type": "code",
   "execution_count": 5,
   "metadata": {},
   "outputs": [],
   "source": [
    "data['diff'] = data.apply(lambda x: x['sklansky'] - x['modified_sklansky'], axis=1)"
   ]
  },
  {
   "cell_type": "code",
   "execution_count": 6,
   "metadata": {},
   "outputs": [
    {
     "data": {
      "text/plain": [
       "<AxesSubplot:>"
      ]
     },
     "execution_count": 6,
     "metadata": {},
     "output_type": "execute_result"
    },
    {
     "data": {
      "image/png": "[encoded data removed]",
      "text/plain": [
       "<Figure size 432x288 with 1 Axes>"
      ]
     },
     "metadata": {
      "needs_background": "light"
     },
     "output_type": "display_data"
    }
   ],
   "source": [
    "data['diff'].hist()"
   ]
  },
  {
   "cell_type": "code",
   "execution_count": 7,
   "metadata": {},
   "outputs": [
    {
     "data": {
      "text/plain": [
       "0.6523378582202112"
      ]
     },
     "execution_count": 7,
     "metadata": {},
     "output_type": "execute_result"
    }
   ],
   "source": [
    "data['diff'].mean()"
   ]
  },
  {
   "cell_type": "code",
   "execution_count": 8,
   "metadata": {},
   "outputs": [
    {
     "data": {
      "text/html": [
       "<div>\n",
       "<style scoped>\n",
       "    .dataframe tbody tr th:only-of-type {\n",
       "        vertical-align: middle;\n",
       "    }\n",
       "\n",
       "    .dataframe tbody tr th {\n",
       "        vertical-align: top;\n",
       "    }\n",
       "\n",
       "    .dataframe thead th {\n",
       "        text-align: right;\n",
       "    }\n",
       "</style>\n",
       "<table border=\"1\" class=\"dataframe\">\n",
       "  <thead>\n",
       "    <tr style=\"text-align: right;\">\n",
       "      <th></th>\n",
       "      <th>card_1</th>\n",
       "      <th>card_2</th>\n",
       "      <th>count</th>\n",
       "      <th>wins</th>\n",
       "      <th>win_rate</th>\n",
       "      <th>rank</th>\n",
       "      <th>percentile</th>\n",
       "      <th>sklansky</th>\n",
       "      <th>sklansky_position</th>\n",
       "      <th>modified_sklansky</th>\n",
       "      <th>modified_sklansky_position</th>\n",
       "      <th>diff</th>\n",
       "    </tr>\n",
       "  </thead>\n",
       "  <tbody>\n",
       "    <tr>\n",
       "      <th>54</th>\n",
       "      <td>9 of Clubs</td>\n",
       "      <td>9 of Diamonds</td>\n",
       "      <td>761</td>\n",
       "      <td>575.0</td>\n",
       "      <td>0.755585</td>\n",
       "      <td>55</td>\n",
       "      <td>97.926094</td>\n",
       "      <td>3</td>\n",
       "      <td>Early, Middle, Late</td>\n",
       "      <td>1</td>\n",
       "      <td>Early, Middle, Late</td>\n",
       "      <td>2</td>\n",
       "    </tr>\n",
       "    <tr>\n",
       "      <th>55</th>\n",
       "      <td>9 of Hearts</td>\n",
       "      <td>9 of Diamonds</td>\n",
       "      <td>708</td>\n",
       "      <td>532.5</td>\n",
       "      <td>0.752119</td>\n",
       "      <td>56</td>\n",
       "      <td>97.888386</td>\n",
       "      <td>3</td>\n",
       "      <td>Early, Middle, Late</td>\n",
       "      <td>1</td>\n",
       "      <td>Early, Middle, Late</td>\n",
       "      <td>2</td>\n",
       "    </tr>\n",
       "    <tr>\n",
       "      <th>60</th>\n",
       "      <td>9 of Clubs</td>\n",
       "      <td>9 of Spades</td>\n",
       "      <td>807</td>\n",
       "      <td>599.0</td>\n",
       "      <td>0.742255</td>\n",
       "      <td>61</td>\n",
       "      <td>97.699849</td>\n",
       "      <td>3</td>\n",
       "      <td>Early, Middle, Late</td>\n",
       "      <td>1</td>\n",
       "      <td>Early, Middle, Late</td>\n",
       "      <td>2</td>\n",
       "    </tr>\n",
       "    <tr>\n",
       "      <th>63</th>\n",
       "      <td>8 of Hearts</td>\n",
       "      <td>8 of Diamonds</td>\n",
       "      <td>785</td>\n",
       "      <td>577.0</td>\n",
       "      <td>0.735032</td>\n",
       "      <td>64</td>\n",
       "      <td>97.586727</td>\n",
       "      <td>4</td>\n",
       "      <td>Early, Middle, Late</td>\n",
       "      <td>2</td>\n",
       "      <td>Early, Middle, Late</td>\n",
       "      <td>2</td>\n",
       "    </tr>\n",
       "    <tr>\n",
       "      <th>70</th>\n",
       "      <td>8 of Clubs</td>\n",
       "      <td>8 of Diamonds</td>\n",
       "      <td>761</td>\n",
       "      <td>549.0</td>\n",
       "      <td>0.721419</td>\n",
       "      <td>71</td>\n",
       "      <td>97.322775</td>\n",
       "      <td>4</td>\n",
       "      <td>Early, Middle, Late</td>\n",
       "      <td>2</td>\n",
       "      <td>Early, Middle, Late</td>\n",
       "      <td>2</td>\n",
       "    </tr>\n",
       "    <tr>\n",
       "      <th>...</th>\n",
       "      <td>...</td>\n",
       "      <td>...</td>\n",
       "      <td>...</td>\n",
       "      <td>...</td>\n",
       "      <td>...</td>\n",
       "      <td>...</td>\n",
       "      <td>...</td>\n",
       "      <td>...</td>\n",
       "      <td>...</td>\n",
       "      <td>...</td>\n",
       "      <td>...</td>\n",
       "      <td>...</td>\n",
       "    </tr>\n",
       "    <tr>\n",
       "      <th>2371</th>\n",
       "      <td>3 of Diamonds</td>\n",
       "      <td>4 of Diamonds</td>\n",
       "      <td>772</td>\n",
       "      <td>285.0</td>\n",
       "      <td>0.369171</td>\n",
       "      <td>2372</td>\n",
       "      <td>10.558069</td>\n",
       "      <td>7</td>\n",
       "      <td>Late if no bettors</td>\n",
       "      <td>9</td>\n",
       "      <td>Not playable</td>\n",
       "      <td>-2</td>\n",
       "    </tr>\n",
       "    <tr>\n",
       "      <th>2374</th>\n",
       "      <td>4 of Spades</td>\n",
       "      <td>3 of Spades</td>\n",
       "      <td>781</td>\n",
       "      <td>288.0</td>\n",
       "      <td>0.368758</td>\n",
       "      <td>2375</td>\n",
       "      <td>10.444947</td>\n",
       "      <td>7</td>\n",
       "      <td>Late if no bettors</td>\n",
       "      <td>9</td>\n",
       "      <td>Not playable</td>\n",
       "      <td>-2</td>\n",
       "    </tr>\n",
       "    <tr>\n",
       "      <th>2380</th>\n",
       "      <td>3 of Clubs</td>\n",
       "      <td>4 of Clubs</td>\n",
       "      <td>772</td>\n",
       "      <td>284.0</td>\n",
       "      <td>0.367876</td>\n",
       "      <td>2381</td>\n",
       "      <td>10.218703</td>\n",
       "      <td>7</td>\n",
       "      <td>Late if no bettors</td>\n",
       "      <td>9</td>\n",
       "      <td>Not playable</td>\n",
       "      <td>-2</td>\n",
       "    </tr>\n",
       "    <tr>\n",
       "      <th>2474</th>\n",
       "      <td>3 of Hearts</td>\n",
       "      <td>4 of Hearts</td>\n",
       "      <td>796</td>\n",
       "      <td>281.5</td>\n",
       "      <td>0.353643</td>\n",
       "      <td>2475</td>\n",
       "      <td>6.674208</td>\n",
       "      <td>7</td>\n",
       "      <td>Late if no bettors</td>\n",
       "      <td>9</td>\n",
       "      <td>Not playable</td>\n",
       "      <td>-2</td>\n",
       "    </tr>\n",
       "    <tr>\n",
       "      <th>2485</th>\n",
       "      <td>3 of Spades</td>\n",
       "      <td>4 of Spades</td>\n",
       "      <td>724</td>\n",
       "      <td>254.5</td>\n",
       "      <td>0.351519</td>\n",
       "      <td>2486</td>\n",
       "      <td>6.259427</td>\n",
       "      <td>7</td>\n",
       "      <td>Late if no bettors</td>\n",
       "      <td>9</td>\n",
       "      <td>Not playable</td>\n",
       "      <td>-2</td>\n",
       "    </tr>\n",
       "  </tbody>\n",
       "</table>\n",
       "<p>858 rows × 12 columns</p>\n",
       "</div>"
      ],
      "text/plain": [
       "             card_1         card_2  count   wins  win_rate  rank  percentile  \\\n",
       "54       9 of Clubs  9 of Diamonds    761  575.0  0.755585    55   97.926094   \n",
       "55      9 of Hearts  9 of Diamonds    708  532.5  0.752119    56   97.888386   \n",
       "60       9 of Clubs    9 of Spades    807  599.0  0.742255    61   97.699849   \n",
       "63      8 of Hearts  8 of Diamonds    785  577.0  0.735032    64   97.586727   \n",
       "70       8 of Clubs  8 of Diamonds    761  549.0  0.721419    71   97.322775   \n",
       "...             ...            ...    ...    ...       ...   ...         ...   \n",
       "2371  3 of Diamonds  4 of Diamonds    772  285.0  0.369171  2372   10.558069   \n",
       "2374    4 of Spades    3 of Spades    781  288.0  0.368758  2375   10.444947   \n",
       "2380     3 of Clubs     4 of Clubs    772  284.0  0.367876  2381   10.218703   \n",
       "2474    3 of Hearts    4 of Hearts    796  281.5  0.353643  2475    6.674208   \n",
       "2485    3 of Spades    4 of Spades    724  254.5  0.351519  2486    6.259427   \n",
       "\n",
       "      sklansky    sklansky_position  modified_sklansky  \\\n",
       "54           3  Early, Middle, Late                  1   \n",
       "55           3  Early, Middle, Late                  1   \n",
       "60           3  Early, Middle, Late                  1   \n",
       "63           4  Early, Middle, Late                  2   \n",
       "70           4  Early, Middle, Late                  2   \n",
       "...        ...                  ...                ...   \n",
       "2371         7   Late if no bettors                  9   \n",
       "2374         7   Late if no bettors                  9   \n",
       "2380         7   Late if no bettors                  9   \n",
       "2474         7   Late if no bettors                  9   \n",
       "2485         7   Late if no bettors                  9   \n",
       "\n",
       "     modified_sklansky_position  diff  \n",
       "54          Early, Middle, Late     2  \n",
       "55          Early, Middle, Late     2  \n",
       "60          Early, Middle, Late     2  \n",
       "63          Early, Middle, Late     2  \n",
       "70          Early, Middle, Late     2  \n",
       "...                         ...   ...  \n",
       "2371               Not playable    -2  \n",
       "2374               Not playable    -2  \n",
       "2380               Not playable    -2  \n",
       "2474               Not playable    -2  \n",
       "2485               Not playable    -2  \n",
       "\n",
       "[858 rows x 12 columns]"
      ]
     },
     "execution_count": 8,
     "metadata": {},
     "output_type": "execute_result"
    }
   ],
   "source": [
    "import math\n",
    "data[abs(data['diff']) >1]"
   ]
  }
 ],
 "metadata": {
  "kernelspec": {
   "display_name": ".venv",
   "language": "python",
   "name": "python3"
  },
  "language_info": {
   "codemirror_mode": {
    "name": "ipython",
    "version": 3
   },
   "file_extension": ".py",
   "mimetype": "text/x-python",
   "name": "python",
   "nbconvert_exporter": "python",
   "pygments_lexer": "ipython3",
   "version": "3.11.0"
  },
  "orig_nbformat": 4
 },
 "nbformat": 4,
 "nbformat_minor": 2
}
