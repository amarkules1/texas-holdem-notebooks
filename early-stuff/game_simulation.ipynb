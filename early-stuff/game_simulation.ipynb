{
 "cells": [
  {
   "cell_type": "code",
   "execution_count": 1,
   "metadata": {},
   "outputs": [],
   "source": [
    "import texas_hold_em_utils.card as card\n",
    "import texas_hold_em_utils.deck as deck\n",
    "import texas_hold_em_utils.game as game\n",
    "import texas_hold_em_utils.player as player\n",
    "import pandas as pd"
   ]
  },
  {
   "cell_type": "code",
   "execution_count": 2,
   "metadata": {},
   "outputs": [],
   "source": [
    "from dotenv import load_dotenv, find_dotenv\n",
    "_ = load_dotenv(find_dotenv())\n",
    "import os\n",
    "import sqlalchemy\n",
    "\n",
    "conn = sqlalchemy.create_engine(os.getenv(\"SUPABASE_CONN_STRING\")).connect()"
   ]
  },
  {
   "cell_type": "code",
   "execution_count": 9,
   "metadata": {},
   "outputs": [],
   "source": [
    "game1 = game.Game(2)\n",
    "game1.players = [player.SimplePlayer(0), player.SimplePlayer(1)]\n",
    "game1.deal()\n",
    "game1.get_bets()\n",
    "game1.flop()\n",
    "game1.get_bets()\n",
    "game1.turn()\n",
    "game1.get_bets()\n",
    "game1.river()\n",
    "game1.get_bets()\n",
    "winners = game1.determine_round_winners()"
   ]
  },
  {
   "cell_type": "code",
   "execution_count": 3,
   "metadata": {},
   "outputs": [],
   "source": [
    "def simulate_random_game(num_players):\n",
    "    game1 = game.Game(num_players)\n",
    "    game1.players = [player.SimplePlayer(i) for i in range(num_players)]\n",
    "    game1.deal()\n",
    "    game1.get_bets()\n",
    "    game1.flop()\n",
    "    game1.get_bets()\n",
    "    game1.turn()\n",
    "    game1.get_bets()\n",
    "    game1.river()\n",
    "    game1.get_bets()\n",
    "    winners = game1.determine_round_winners()\n",
    "    df = pd.DataFrame(data={\n",
    "        \"flop_1\": [game1.community_cards[0].__str__()],\n",
    "        \"flop_2\": [game1.community_cards[1].__str__()],\n",
    "        \"flop_3\": [game1.community_cards[2].__str__()],\n",
    "        \"turn\": [game1.community_cards[3].__str__()],\n",
    "        \"river\": [game1.community_cards[4].__str__()],\n",
    "        \"winners\": \", \".join([f\"player_{winner.position}\" for winner in winners])\n",
    "    })\n",
    "    for i, player1 in enumerate(game1.players):\n",
    "        df[f\"player_{i}_card_1\"] = player1.hand_of_two.cards[0].__str__()\n",
    "        df[f\"player_{i}_card_2\"] = player1.hand_of_two.cards[1].__str__()\n",
    "        df[f\"player_{i}_hand_rank\"] = player1.hand_of_five.hand_rank\n",
    "    return df"
   ]
  },
  {
   "cell_type": "code",
   "execution_count": 25,
   "metadata": {},
   "outputs": [],
   "source": [
    "df = None\n",
    "for i in range(10):\n",
    "    if df is None:\n",
    "        df = simulate_random_game(4)\n",
    "    else:\n",
    "        df = pd.concat([df, simulate_random_game(4)])"
   ]
  },
  {
   "cell_type": "code",
   "execution_count": 28,
   "metadata": {},
   "outputs": [
    {
     "name": "stdout",
     "output_type": "stream",
     "text": [
      "3\n",
      "4\n",
      "5\n",
      "6\n",
      "7\n",
      "8\n",
      "9\n"
     ]
    }
   ],
   "source": [
    "for num_players in range(3, 10):\n",
    "    print(num_players)"
   ]
  },
  {
   "cell_type": "code",
   "execution_count": 6,
   "metadata": {},
   "outputs": [
    {
     "ename": "MemoryError",
     "evalue": "",
     "output_type": "error",
     "traceback": [
      "\u001b[1;31m---------------------------------------------------------------------------\u001b[0m",
      "\u001b[1;31mMemoryError\u001b[0m                               Traceback (most recent call last)",
      "\u001b[1;32mc:\\Users\\amarl\\dev\\jupyter-notebooks\\poker\\game_simulation.ipynb Cell 7\u001b[0m in \u001b[0;36m<cell line: 1>\u001b[1;34m()\u001b[0m\n\u001b[0;32m      <a href='vscode-notebook-cell:/c%3A/Users/amarl/dev/jupyter-notebooks/poker/game_simulation.ipynb#W5sZmlsZQ%3D%3D?line=5'>6</a>\u001b[0m         data_df \u001b[39m=\u001b[39m simulate_random_game(num_players)\n\u001b[0;32m      <a href='vscode-notebook-cell:/c%3A/Users/amarl/dev/jupyter-notebooks/poker/game_simulation.ipynb#W5sZmlsZQ%3D%3D?line=6'>7</a>\u001b[0m     \u001b[39melse\u001b[39;00m:\n\u001b[1;32m----> <a href='vscode-notebook-cell:/c%3A/Users/amarl/dev/jupyter-notebooks/poker/game_simulation.ipynb#W5sZmlsZQ%3D%3D?line=7'>8</a>\u001b[0m         data_df \u001b[39m=\u001b[39m pd\u001b[39m.\u001b[39mconcat([data_df, simulate_random_game(num_players)])\n\u001b[0;32m      <a href='vscode-notebook-cell:/c%3A/Users/amarl/dev/jupyter-notebooks/poker/game_simulation.ipynb#W5sZmlsZQ%3D%3D?line=8'>9</a>\u001b[0m data_df\u001b[39m.\u001b[39mto_sql(\u001b[39mf\u001b[39m\u001b[39m\"\u001b[39m\u001b[39mrandom_games_for_\u001b[39m\u001b[39m{\u001b[39;00mnum_players\u001b[39m}\u001b[39;00m\u001b[39m_players\u001b[39m\u001b[39m\"\u001b[39m, conn, if_exists\u001b[39m=\u001b[39m\u001b[39m\"\u001b[39m\u001b[39mappend\u001b[39m\u001b[39m\"\u001b[39m, schema\u001b[39m=\u001b[39m\u001b[39m\"\u001b[39m\u001b[39mpoker\u001b[39m\u001b[39m\"\u001b[39m)\n\u001b[0;32m     <a href='vscode-notebook-cell:/c%3A/Users/amarl/dev/jupyter-notebooks/poker/game_simulation.ipynb#W5sZmlsZQ%3D%3D?line=9'>10</a>\u001b[0m conn\u001b[39m.\u001b[39mcommit()\n",
      "\u001b[1;32mc:\\Users\\amarl\\dev\\jupyter-notebooks\\poker\\game_simulation.ipynb Cell 7\u001b[0m in \u001b[0;36msimulate_random_game\u001b[1;34m(num_players)\u001b[0m\n\u001b[0;32m      <a href='vscode-notebook-cell:/c%3A/Users/amarl/dev/jupyter-notebooks/poker/game_simulation.ipynb#W5sZmlsZQ%3D%3D?line=0'>1</a>\u001b[0m \u001b[39mdef\u001b[39;00m \u001b[39msimulate_random_game\u001b[39m(num_players):\n\u001b[1;32m----> <a href='vscode-notebook-cell:/c%3A/Users/amarl/dev/jupyter-notebooks/poker/game_simulation.ipynb#W5sZmlsZQ%3D%3D?line=1'>2</a>\u001b[0m     game1 \u001b[39m=\u001b[39m game\u001b[39m.\u001b[39;49mGame(num_players)\n\u001b[0;32m      <a href='vscode-notebook-cell:/c%3A/Users/amarl/dev/jupyter-notebooks/poker/game_simulation.ipynb#W5sZmlsZQ%3D%3D?line=2'>3</a>\u001b[0m     game1\u001b[39m.\u001b[39mplayers \u001b[39m=\u001b[39m [player\u001b[39m.\u001b[39mSimplePlayer(i) \u001b[39mfor\u001b[39;00m i \u001b[39min\u001b[39;00m \u001b[39mrange\u001b[39m(num_players)]\n\u001b[0;32m      <a href='vscode-notebook-cell:/c%3A/Users/amarl/dev/jupyter-notebooks/poker/game_simulation.ipynb#W5sZmlsZQ%3D%3D?line=3'>4</a>\u001b[0m     game1\u001b[39m.\u001b[39mdeal()\n",
      "File \u001b[1;32mc:\\Users\\amarl\\dev\\jupyter-notebooks\\.venv\\lib\\site-packages\\texas_hold_em_utils\\game.py:28\u001b[0m, in \u001b[0;36mGame.__init__\u001b[1;34m(self, num_players, big_blind, starting_chips)\u001b[0m\n\u001b[0;32m     26\u001b[0m player \u001b[39m=\u001b[39m Player(i, starting_chips)\n\u001b[0;32m     27\u001b[0m player\u001b[39m.\u001b[39mhand_of_two \u001b[39m=\u001b[39m HandOfTwo([])\n\u001b[1;32m---> 28\u001b[0m \u001b[39mself\u001b[39;49m\u001b[39m.\u001b[39;49mplayers\u001b[39m.\u001b[39;49mappend(player)\n",
      "\u001b[1;31mMemoryError\u001b[0m: "
     ]
    }
   ],
   "source": [
    "\n",
    "for num_players in range(7, 10):\n",
    "    for i in range(1000):\n",
    "        data_df = None\n",
    "        for j in range(1000):\n",
    "            if data_df is None:\n",
    "                data_df = simulate_random_game(num_players)\n",
    "            else:\n",
    "                data_df = pd.concat([data_df, simulate_random_game(num_players)])\n",
    "        data_df.to_sql(f\"random_games_for_{num_players}_players\", conn, if_exists=\"append\", schema=\"poker\")\n",
    "        conn.commit()"
   ]
  },
  {
   "cell_type": "code",
   "execution_count": 5,
   "metadata": {},
   "outputs": [],
   "source": [
    "conn.commit()\n",
    "conn.close()"
   ]
  },
  {
   "cell_type": "code",
   "execution_count": 7,
   "metadata": {},
   "outputs": [],
   "source": [
    "conn = sqlalchemy.create_engine(os.getenv(\"SUPABASE_CONN_STRING\")).connect()"
   ]
  },
  {
   "cell_type": "code",
   "execution_count": 19,
   "metadata": {},
   "outputs": [],
   "source": [
    "two_player_data = pd.read_sql(sqlalchemy.text(\"SELECT * FROM poker.two_player_game_odds\"), conn)"
   ]
  },
  {
   "cell_type": "code",
   "execution_count": 20,
   "metadata": {},
   "outputs": [],
   "source": [
    "two_player_data[\"card_1_rank\"] = two_player_data[\"card_1\"].apply(lambda x: card.Card().ranks.index(x[:2].strip()))\n",
    "two_player_data[\"card_1_suit\"] = two_player_data[\"card_1\"].apply(lambda x: card.Card().suits.index(x[5:].strip()))\n",
    "two_player_data[\"card_2_rank\"] = two_player_data[\"card_2\"].apply(lambda x: card.Card().ranks.index(x[:2].strip()))\n",
    "two_player_data[\"card_2_suit\"] = two_player_data[\"card_2\"].apply(lambda x: card.Card().suits.index(x[5:].strip()))\n",
    "\n"
   ]
  },
  {
   "cell_type": "code",
   "execution_count": 21,
   "metadata": {},
   "outputs": [
    {
     "data": {
      "text/html": [
       "<div>\n",
       "<style scoped>\n",
       "    .dataframe tbody tr th:only-of-type {\n",
       "        vertical-align: middle;\n",
       "    }\n",
       "\n",
       "    .dataframe tbody tr th {\n",
       "        vertical-align: top;\n",
       "    }\n",
       "\n",
       "    .dataframe thead th {\n",
       "        text-align: right;\n",
       "    }\n",
       "</style>\n",
       "<table border=\"1\" class=\"dataframe\">\n",
       "  <thead>\n",
       "    <tr style=\"text-align: right;\">\n",
       "      <th></th>\n",
       "      <th>card_1_rank</th>\n",
       "      <th>suited</th>\n",
       "      <th>card_2_rank</th>\n",
       "      <th>win_rate</th>\n",
       "    </tr>\n",
       "  </thead>\n",
       "  <tbody>\n",
       "    <tr>\n",
       "      <th>0</th>\n",
       "      <td>12</td>\n",
       "      <td>True</td>\n",
       "      <td>11</td>\n",
       "      <td>0.69321</td>\n",
       "    </tr>\n",
       "  </tbody>\n",
       "</table>\n",
       "</div>"
      ],
      "text/plain": [
       "   card_1_rank  suited  card_2_rank  win_rate\n",
       "0           12    True           11   0.69321"
      ]
     },
     "execution_count": 21,
     "metadata": {},
     "output_type": "execute_result"
    }
   ],
   "source": [
    "card_1_rank = 12\n",
    "suited = True\n",
    "card_2_rank = 11\n",
    "\n",
    "relevant_data = two_player_data[(two_player_data[\"card_1_rank\"] == card_1_rank) & (two_player_data[\"card_2_rank\"] == card_2_rank) & ((two_player_data[\"card_1_suit\"] == two_player_data[\"card_2_suit\"]) == suited)]\n",
    "\n",
    "df = pd.DataFrame(data={\"card_1_rank\": [card_1_rank], \"suited\": [suited], \"card_2_rank\": [card_2_rank], \"win_rate\": [relevant_data[\"win_rate\"].mean()]})\n",
    "df = df.sort_values(by=\"win_rate\", ascending=False)\n",
    "df"
   ]
  },
  {
   "cell_type": "code",
   "execution_count": 22,
   "metadata": {},
   "outputs": [],
   "source": [
    "df = None\n",
    "for card_1_rank in range(13):\n",
    "    for card_2_rank in range(13):\n",
    "        for suited in [True, False]:\n",
    "            relevant_data = two_player_data[(two_player_data[\"card_1_rank\"] == card_1_rank) & (two_player_data[\"card_2_rank\"] == card_2_rank) & ((two_player_data[\"card_1_suit\"] == two_player_data[\"card_2_suit\"]) == suited)]\n",
    "            if len(relevant_data) > 0:\n",
    "                new_df = pd.DataFrame(data={\"card_1_rank\": [card_1_rank], \"suited\": [suited], \"card_2_rank\": [card_2_rank], \"win_rate\": [relevant_data[\"win_rate\"].mean()]})\n",
    "                if df is None:\n",
    "                    df = new_df\n",
    "                else:\n",
    "                    df = pd.concat([df, new_df])"
   ]
  },
  {
   "cell_type": "code",
   "execution_count": 23,
   "metadata": {},
   "outputs": [],
   "source": [
    "df = df.sort_values(by=\"win_rate\", ascending=False)\n",
    "df['rank'] = range(len(df))"
   ]
  },
  {
   "cell_type": "code",
   "execution_count": 24,
   "metadata": {},
   "outputs": [],
   "source": [
    "df['percentile'] = (len(df) - df['rank']) / len(df)"
   ]
  },
  {
   "cell_type": "code",
   "execution_count": 25,
   "metadata": {},
   "outputs": [],
   "source": [
    "from texas_hold_em_utils.sklansky import sklansky_rank\n",
    "\n",
    "df['sklansky'] = df.apply(lambda x: sklansky_rank(card.Card().from_ints(x[\"card_1_rank\"], 0), card.Card().from_ints(x[\"card_2_rank\"], 0 if x['suited'] else 1)), axis=1)"
   ]
  },
  {
   "cell_type": "code",
   "execution_count": 26,
   "metadata": {},
   "outputs": [
    {
     "data": {
      "text/plain": [
       "[0.7201325382815115,\n",
       " 0.649653723811387,\n",
       " 0.6122581094082393,\n",
       " 0.5812130832678524,\n",
       " 0.556856010906333,\n",
       " 0.5265988991531945,\n",
       " 0.4882504494029658,\n",
       " 0.4609693372555661]"
      ]
     },
     "execution_count": 26,
     "metadata": {},
     "output_type": "execute_result"
    }
   ],
   "source": [
    "avgs = df.groupby(\"sklansky\")[\"win_rate\"].mean()\n",
    "\n",
    "cutoffs = []\n",
    "for rank in range(8):\n",
    "    cutoffs.append((avgs.iloc[rank] + avgs.iloc[rank + 1]) / 2)\n",
    "    \n",
    "cutoffs"
   ]
  },
  {
   "cell_type": "code",
   "execution_count": 27,
   "metadata": {},
   "outputs": [],
   "source": [
    "def get_modified_sklansky(win_rate):\n",
    "    for i in range(len(cutoffs)):\n",
    "        if win_rate >= cutoffs[i]:\n",
    "            return i + 1\n",
    "    return 9"
   ]
  },
  {
   "cell_type": "code",
   "execution_count": 28,
   "metadata": {},
   "outputs": [],
   "source": [
    "df['modified_sklansky'] = df['win_rate'].apply(get_modified_sklansky)"
   ]
  },
  {
   "cell_type": "code",
   "execution_count": 29,
   "metadata": {},
   "outputs": [],
   "source": [
    "from texas_hold_em_utils.sklansky import sklansky_playable_position\n",
    "df['sklansky_position'] = df.apply(lambda x: sklansky_playable_position(x[\"sklansky\"]), axis=1)"
   ]
  },
  {
   "cell_type": "code",
   "execution_count": 30,
   "metadata": {},
   "outputs": [],
   "source": [
    "df['modified_sklansky_position'] = df.apply(lambda x: sklansky_playable_position(x[\"modified_sklansky\"]), axis=1)"
   ]
  },
  {
   "cell_type": "code",
   "execution_count": 31,
   "metadata": {},
   "outputs": [],
   "source": [
    "import matplotlib.pyplot as plt"
   ]
  },
  {
   "cell_type": "code",
   "execution_count": 32,
   "metadata": {},
   "outputs": [
    {
     "data": {
      "text/plain": [
       "<AxesSubplot:>"
      ]
     },
     "execution_count": 32,
     "metadata": {},
     "output_type": "execute_result"
    },
    {
     "data": {
      "image/png": "[encoded data removed]",
      "text/plain": [
       "<Figure size 432x288 with 1 Axes>"
      ]
     },
     "metadata": {
      "needs_background": "light"
     },
     "output_type": "display_data"
    }
   ],
   "source": [
    "df['modified_sklansky'].hist()"
   ]
  },
  {
   "cell_type": "code",
   "execution_count": 33,
   "metadata": {},
   "outputs": [
    {
     "data": {
      "text/plain": [
       "325"
      ]
     },
     "execution_count": 33,
     "metadata": {},
     "output_type": "execute_result"
    }
   ],
   "source": [
    "df.to_sql(\"two_player_hand_odds\", conn, if_exists=\"replace\", schema=\"poker\")"
   ]
  },
  {
   "cell_type": "code",
   "execution_count": 34,
   "metadata": {},
   "outputs": [],
   "source": []
  }
 ],
 "metadata": {
  "kernelspec": {
   "display_name": ".venv",
   "language": "python",
   "name": "python3"
  },
  "language_info": {
   "codemirror_mode": {
    "name": "ipython",
    "version": 3
   },
   "file_extension": ".py",
   "mimetype": "text/x-python",
   "name": "python",
   "nbconvert_exporter": "python",
   "pygments_lexer": "ipython3",
   "version": "3.11.0"
  },
  "orig_nbformat": 4
 },
 "nbformat": 4,
 "nbformat_minor": 2
}
