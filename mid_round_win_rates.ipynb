{
 "cells": [
  {
   "cell_type": "markdown",
   "metadata": {},
   "source": [
    "# Goal: predict the likelihood of winning a round based on how things stand after the flop or river\n",
    "\n",
    "Prior work:\n",
    "- Determined win rates pre-flop based on hole/pocket cards. There I was able to generate a sample of games for each pair of hole cards and calculate the win rate.\n",
    "- Wrote a hand ranking funtion that considers all possible hands that other players could have and figures out which ones a given hand beats/loses to/ties\n",
    "  - This function assumes no additional community cards. So it does really good at getting the win rate after the river, but not as well at the turn and worst after the flop.\n",
    "  - It also assumes just one other player in the hand. But I showed in `n_player_win_rates.ipynb` that raising the win rate to the n-1 power (where n is the number of players) is an effective estimate of the win rate for n players.\n",
    "  - Each additional unknown card increases the complexity, so while I could take a similar approach and try each possible turn and rivver card, it would take ~50x as long for the turn and ~2500x at the flop. Should benchmark to see what those real durations are.\n",
    "  - If that proves too inefficient, probably need to just generate a sample of games. it won't be as accurate but it will be a lot faster"
   ]
  },
  {
   "cell_type": "code",
   "execution_count": 2,
   "metadata": {},
   "outputs": [],
   "source": [
    "import copy\n",
    "from texas_hold_em_utils.deck import Deck\n",
    "from texas_hold_em_utils.hands import HandOfFive\n",
    "\n",
    "def rank_hand_post_flop(hand, flop, n_other_players=1, sample_size=1000):\n",
    "    deck = Deck()\n",
    "    deck.remove(hand[0])\n",
    "    deck.remove(hand[1])\n",
    "\n",
    "    deck.remove(flop[0])\n",
    "    deck.remove(flop[1])\n",
    "    deck.remove(flop[2])\n",
    "\n",
    "    wins = 0.0\n",
    "\n",
    "    for i in range(sample_size):\n",
    "        deck_cpy = copy.deepcopy(deck)\n",
    "        deck_cpy.shuffle()\n",
    "        \n",
    "        turn = deck_cpy.draw()\n",
    "        river = deck_cpy.draw()\n",
    "        \n",
    "        comm = [flop[0], flop[1], flop[2], turn, river]\n",
    "\n",
    "        other_hands = []\n",
    "        for j in range(n_other_players):\n",
    "            other_hands.append(HandOfFive([deck_cpy.draw(), deck_cpy.draw()], comm))\n",
    "        \n",
    "        player_hand = HandOfFive(hand, comm)\n",
    "        \n",
    "        lost_to = []\n",
    "        tied_with = []\n",
    "        \n",
    "        for hand_obj in other_hands:\n",
    "            if player_hand < hand_obj:\n",
    "                lost_to.append(hand_obj)\n",
    "            elif player_hand == hand_obj:\n",
    "                tied_with.append(hand_obj)\n",
    "        \n",
    "        if len(lost_to) == 0:\n",
    "            wins += 1 / (len(tied_with) + 1)\n",
    "            \n",
    "    return wins/sample_size\n",
    "            \n",
    "    "
   ]
  },
  {
   "cell_type": "code",
   "execution_count": 3,
   "metadata": {},
   "outputs": [
    {
     "name": "stderr",
     "output_type": "stream",
     "text": [
      "C:\\Users\\amarl\\AppData\\Local\\Temp\\ipykernel_31800\\3732414775.py:11: FutureWarning: The behavior of DataFrame concatenation with empty or all-NA entries is deprecated. In a future version, this will no longer exclude empty or all-NA columns when determining the result dtypes. To retain the old behavior, exclude the relevant entries before the concat operation.\n",
      "  df = pd.concat([df, pd.DataFrame({'wins': [rank_hand_post_flop(hand, community_cards)]})])\n"
     ]
    }
   ],
   "source": [
    "from texas_hold_em_utils.card import Card\n",
    "import pandas as pd\n",
    "\n",
    "hand = [Card().from_ints(2, 1), Card().from_ints(3, 1)]\n",
    "\n",
    "community_cards = [Card().from_ints(9, 1), Card().from_ints(10, 1), Card().from_ints(2, 2)]\n",
    "\n",
    "df = pd.DataFrame(columns=['wins'])\n",
    "\n",
    "for i in range(50):\n",
    "    df = pd.concat([df, pd.DataFrame({'wins': [rank_hand_post_flop(hand, community_cards)]})])"
   ]
  },
  {
   "cell_type": "code",
   "execution_count": 4,
   "metadata": {},
   "outputs": [
    {
     "data": {
      "text/plain": [
       "<Axes: >"
      ]
     },
     "execution_count": 4,
     "metadata": {},
     "output_type": "execute_result"
    },
    {
     "data": {
      "image/png": "[encoded data removed]",
      "text/plain": [
       "<Figure size 640x480 with 1 Axes>"
      ]
     },
     "metadata": {},
     "output_type": "display_data"
    }
   ],
   "source": [
    "df['wins'].hist()"
   ]
  },
  {
   "cell_type": "markdown",
   "metadata": {},
   "source": [
    "Distribution is pretty tight, that's good. looks like at a sample size of 1000 we can predict the proportion of wins with a tolerance of +/- 0.03\n",
    "\n",
    "And it took 10s to generate 50 samples of 1000. So 0.2s to gererate one sample. Pretty good performance\n",
    "\n",
    "Does it follow the same rule as the end of game one did? where as the number of players goes up we can take the win rate for a 2 player game to the n-1 power?"
   ]
  },
  {
   "cell_type": "code",
   "execution_count": 5,
   "metadata": {},
   "outputs": [
    {
     "name": "stderr",
     "output_type": "stream",
     "text": [
      "C:\\Users\\amarl\\AppData\\Local\\Temp\\ipykernel_31800\\2387876793.py:8: FutureWarning: The behavior of DataFrame concatenation with empty or all-NA entries is deprecated. In a future version, this will no longer exclude empty or all-NA columns when determining the result dtypes. To retain the old behavior, exclude the relevant entries before the concat operation.\n",
      "  df = pd.concat([df, pd.DataFrame({\n"
     ]
    }
   ],
   "source": [
    "df = pd.DataFrame(columns=['W_1', 'W_2', 'W_3'])\n",
    "\n",
    "for i in range(50):\n",
    "    deck = Deck()\n",
    "    deck.shuffle()\n",
    "    hand = [deck.draw(), deck.draw()]\n",
    "    community_cards = [deck.draw(), deck.draw(), deck.draw()]\n",
    "    df = pd.concat([df, pd.DataFrame({\n",
    "        'W_1': [rank_hand_post_flop(hand, community_cards)],\n",
    "        'W_2': [rank_hand_post_flop(hand, community_cards, n_other_players=2)],\n",
    "        'W_3': [rank_hand_post_flop(hand, community_cards, n_other_players=3)]\n",
    "        })])"
   ]
  },
  {
   "cell_type": "code",
   "execution_count": 6,
   "metadata": {},
   "outputs": [],
   "source": [
    "df['W_1_sq'] = df['W_1'] * df['W_1']\n",
    "df['W_1_cu'] = df['W_1'] * df['W_1'] * df['W_1']\n",
    "\n",
    "df['W_2_error'] = df['W_1_sq'] - df['W_2']\n",
    "\n",
    "df['W_3_error'] = df['W_1_sq'] - df['W_3']"
   ]
  },
  {
   "cell_type": "code",
   "execution_count": 7,
   "metadata": {},
   "outputs": [
    {
     "data": {
      "text/plain": [
       "<Axes: >"
      ]
     },
     "execution_count": 7,
     "metadata": {},
     "output_type": "execute_result"
    },
    {
     "data": {
      "image/png": "[encoded data removed]",
      "text/plain": [
       "<Figure size 640x480 with 1 Axes>"
      ]
     },
     "metadata": {},
     "output_type": "display_data"
    }
   ],
   "source": [
    "df['W_2_error'].hist()"
   ]
  },
  {
   "cell_type": "code",
   "execution_count": 8,
   "metadata": {},
   "outputs": [
    {
     "data": {
      "text/plain": [
       "<Axes: >"
      ]
     },
     "execution_count": 8,
     "metadata": {},
     "output_type": "execute_result"
    },
    {
     "data": {
      "image/png": "[encoded data removed]",
      "text/plain": [
       "<Figure size 640x480 with 1 Axes>"
      ]
     },
     "metadata": {},
     "output_type": "display_data"
    }
   ],
   "source": [
    "df['W_3_error'].hist()"
   ]
  },
  {
   "cell_type": "markdown",
   "metadata": {},
   "source": [
    "No it doesn't. Which maybe calls into question those earlier results? or there's something fundementally different about the scenarios. This function's performance doesn't seem to be too effected by the number of players. Generating 2, 3, and 4 player results took 3x as long as generating just the 2 player results\n",
    "\n",
    "Now on to the turn"
   ]
  },
  {
   "cell_type": "code",
   "execution_count": 9,
   "metadata": {},
   "outputs": [],
   "source": [
    "def rank_hand_post_turn(hand, flop_and_turn, n_other_players=1, sample_size=1000):\n",
    "    deck = Deck()\n",
    "    deck.remove(hand[0])\n",
    "    deck.remove(hand[1])\n",
    "\n",
    "    deck.remove(flop_and_turn[0])\n",
    "    deck.remove(flop_and_turn[1])\n",
    "    deck.remove(flop_and_turn[2])\n",
    "    deck.remove(flop_and_turn[3])\n",
    "\n",
    "    wins = 0.0\n",
    "\n",
    "    for i in range(sample_size):\n",
    "        deck_cpy = copy.deepcopy(deck)\n",
    "        deck_cpy.shuffle()\n",
    "        \n",
    "        river = deck_cpy.draw()\n",
    "        \n",
    "        comm = [flop_and_turn[0], flop_and_turn[1], flop_and_turn[2], flop_and_turn[3], river]\n",
    "\n",
    "        other_hands = []\n",
    "        for j in range(n_other_players):\n",
    "            other_hands.append(HandOfFive([deck_cpy.draw(), deck_cpy.draw()], comm))\n",
    "        \n",
    "        player_hand = HandOfFive(hand, comm)\n",
    "        \n",
    "        lost_to = []\n",
    "        tied_with = []\n",
    "        \n",
    "        for hand_obj in other_hands:\n",
    "            if player_hand < hand_obj:\n",
    "                lost_to.append(hand_obj)\n",
    "            elif player_hand == hand_obj:\n",
    "                tied_with.append(hand_obj)\n",
    "        \n",
    "        if len(lost_to) == 0:\n",
    "            wins += 1 / (len(tied_with) + 1)\n",
    "            \n",
    "    return wins/sample_size"
   ]
  },
  {
   "cell_type": "code",
   "execution_count": 10,
   "metadata": {},
   "outputs": [
    {
     "name": "stderr",
     "output_type": "stream",
     "text": [
      "C:\\Users\\amarl\\AppData\\Local\\Temp\\ipykernel_31800\\539707621.py:8: FutureWarning: The behavior of DataFrame concatenation with empty or all-NA entries is deprecated. In a future version, this will no longer exclude empty or all-NA columns when determining the result dtypes. To retain the old behavior, exclude the relevant entries before the concat operation.\n",
      "  df = pd.concat([df, pd.DataFrame({\n"
     ]
    }
   ],
   "source": [
    "df = pd.DataFrame(columns=['W_1', 'W_2', 'W_3'])\n",
    "\n",
    "for i in range(5):\n",
    "    deck = Deck()\n",
    "    deck.shuffle()\n",
    "    hand = [deck.draw(), deck.draw()]\n",
    "    community_cards = [deck.draw(), deck.draw(), deck.draw(), deck.draw()]\n",
    "    df = pd.concat([df, pd.DataFrame({\n",
    "        'W_1': [rank_hand_post_turn(hand, community_cards)],\n",
    "        'W_2': [rank_hand_post_turn(hand, community_cards, n_other_players=2)],\n",
    "        'W_3': [rank_hand_post_turn(hand, community_cards, n_other_players=3)]\n",
    "        })])"
   ]
  },
  {
   "cell_type": "code",
   "execution_count": 11,
   "metadata": {},
   "outputs": [
    {
     "data": {
      "text/plain": [
       "<Axes: >"
      ]
     },
     "execution_count": 11,
     "metadata": {},
     "output_type": "execute_result"
    },
    {
     "data": {
      "image/png": "[encoded data removed]",
      "text/plain": [
       "<Figure size 640x480 with 1 Axes>"
      ]
     },
     "metadata": {},
     "output_type": "display_data"
    }
   ],
   "source": [
    "df['W_1'].hist()\n",
    "df['W_2'].hist()\n",
    "df['W_3'].hist()"
   ]
  },
  {
   "cell_type": "code",
   "execution_count": 12,
   "metadata": {},
   "outputs": [],
   "source": [
    "df['W_1_sq'] = df['W_1'] * df['W_1']\n",
    "df['W_1_cu'] = df['W_1'] * df['W_1'] * df['W_1']\n",
    "\n",
    "df['W_2_error'] = df['W_1_sq'] - df['W_2']\n",
    "\n",
    "df['W_3_error'] = df['W_1_sq'] - df['W_3']"
   ]
  },
  {
   "cell_type": "code",
   "execution_count": 13,
   "metadata": {},
   "outputs": [
    {
     "data": {
      "text/plain": [
       "<Axes: >"
      ]
     },
     "execution_count": 13,
     "metadata": {},
     "output_type": "execute_result"
    },
    {
     "data": {
      "image/png": "[encoded data removed]",
      "text/plain": [
       "<Figure size 640x480 with 1 Axes>"
      ]
     },
     "metadata": {},
     "output_type": "display_data"
    }
   ],
   "source": [
    "df['W_2_error'].hist()"
   ]
  },
  {
   "cell_type": "code",
   "execution_count": 14,
   "metadata": {},
   "outputs": [
    {
     "data": {
      "text/plain": [
       "<Axes: >"
      ]
     },
     "execution_count": 14,
     "metadata": {},
     "output_type": "execute_result"
    },
    {
     "data": {
      "image/png": "[encoded data removed]",
      "text/plain": [
       "<Figure size 640x480 with 1 Axes>"
      ]
     },
     "metadata": {},
     "output_type": "display_data"
    }
   ],
   "source": [
    "df['W_3_error'].hist()"
   ]
  },
  {
   "cell_type": "code",
   "execution_count": 15,
   "metadata": {},
   "outputs": [
    {
     "name": "stderr",
     "output_type": "stream",
     "text": [
      "C:\\Users\\amarl\\AppData\\Local\\Temp\\ipykernel_31800\\3514283508.py:8: FutureWarning: The behavior of DataFrame concatenation with empty or all-NA entries is deprecated. In a future version, this will no longer exclude empty or all-NA columns when determining the result dtypes. To retain the old behavior, exclude the relevant entries before the concat operation.\n",
      "  df = pd.concat([df, pd.DataFrame({'wins': [rank_hand_post_turn(hand, community_cards)]})])\n"
     ]
    }
   ],
   "source": [
    "hand = [Card().from_ints(2, 1), Card().from_ints(3, 1)]\n",
    "\n",
    "community_cards = [Card().from_ints(9, 1), Card().from_ints(10, 1), Card().from_ints(2, 2), Card().from_ints(5,0)]\n",
    "\n",
    "df = pd.DataFrame(columns=['wins'])\n",
    "\n",
    "for i in range(50):\n",
    "    df = pd.concat([df, pd.DataFrame({'wins': [rank_hand_post_turn(hand, community_cards)]})])"
   ]
  },
  {
   "cell_type": "code",
   "execution_count": 16,
   "metadata": {},
   "outputs": [
    {
     "data": {
      "text/plain": [
       "<Axes: >"
      ]
     },
     "execution_count": 16,
     "metadata": {},
     "output_type": "execute_result"
    },
    {
     "data": {
      "image/png": "[encoded data removed]",
      "text/plain": [
       "<Figure size 640x480 with 1 Axes>"
      ]
     },
     "metadata": {},
     "output_type": "display_data"
    }
   ],
   "source": [
    "df['wins'].hist()"
   ]
  },
  {
   "cell_type": "code",
   "execution_count": 17,
   "metadata": {},
   "outputs": [],
   "source": [
    "def rank_hand_post_river(hand, community_cards, n_other_players=1, sample_size=1000):\n",
    "    deck = Deck()\n",
    "    deck.remove(hand[0])\n",
    "    deck.remove(hand[1])\n",
    "\n",
    "    deck.remove(community_cards[0])\n",
    "    deck.remove(community_cards[1])\n",
    "    deck.remove(community_cards[2])\n",
    "    deck.remove(community_cards[3])\n",
    "    deck.remove(community_cards[4])\n",
    "\n",
    "    wins = 0.0\n",
    "\n",
    "    for i in range(sample_size):\n",
    "        deck_cpy = copy.deepcopy(deck)\n",
    "        deck_cpy.shuffle()\n",
    "        \n",
    "        comm = [community_cards[0], community_cards[1], community_cards[2], community_cards[3], community_cards[4]]\n",
    "\n",
    "        other_hands = []\n",
    "        for j in range(n_other_players):\n",
    "            other_hands.append(HandOfFive([deck_cpy.draw(), deck_cpy.draw()], comm))\n",
    "        \n",
    "        player_hand = HandOfFive(hand, comm)\n",
    "        \n",
    "        lost_to = []\n",
    "        tied_with = []\n",
    "        \n",
    "        for hand_obj in other_hands:\n",
    "            if player_hand < hand_obj:\n",
    "                lost_to.append(hand_obj)\n",
    "            elif player_hand == hand_obj:\n",
    "                tied_with.append(hand_obj)\n",
    "        \n",
    "        if len(lost_to) == 0:\n",
    "            wins += 1 / (len(tied_with) + 1)\n",
    "            \n",
    "    return wins/sample_size"
   ]
  },
  {
   "cell_type": "code",
   "execution_count": 23,
   "metadata": {},
   "outputs": [
    {
     "data": {
      "text/plain": [
       "<Axes: >"
      ]
     },
     "execution_count": 23,
     "metadata": {},
     "output_type": "execute_result"
    },
    {
     "data": {
      "image/png": "[encoded data removed]",
      "text/plain": [
       "<Figure size 640x480 with 1 Axes>"
      ]
     },
     "metadata": {},
     "output_type": "display_data"
    }
   ],
   "source": [
    "from texas_hold_em_utils.relative_ranking import rank_hand\n",
    "\n",
    "hand = [Card().from_ints(2, 1), Card().from_ints(3, 1)]\n",
    "\n",
    "community_cards = [Card().from_ints(9, 1), Card().from_ints(10, 1), Card().from_ints(2, 2), Card().from_ints(5,0), Card().from_ints(10, 0)]\n",
    "\n",
    "df = pd.DataFrame(columns=['wins'])\n",
    "\n",
    "for i in range(50):\n",
    "    df = pd.concat([df, pd.DataFrame({'W_1': [rank_hand_post_river(hand, community_cards)],\n",
    "                                       'W_2': [rank_hand_post_river(hand, community_cards, n_other_players=2)],\n",
    "                                       'W_3': [rank_hand_post_river(hand, community_cards, n_other_players=3)]\n",
    "                                        })])\n",
    "\n",
    "df['W_1'].hist()"
   ]
  },
  {
   "cell_type": "code",
   "execution_count": 19,
   "metadata": {},
   "outputs": [],
   "source": [
    "wins, losses, ties = rank_hand(hand, community_cards)"
   ]
  },
  {
   "cell_type": "code",
   "execution_count": 25,
   "metadata": {},
   "outputs": [
    {
     "name": "stdout",
     "output_type": "stream",
     "text": [
      "Win rate: 0.5888888888888889\n",
      "W_1: 0.58929\n"
     ]
    }
   ],
   "source": [
    "win_rate = (wins + (0.5*ties)) / (wins + ties + losses)\n",
    "print(f'Win rate: {win_rate}')\n",
    "print(f\"W_1: {df['W_1'].mean()}\")"
   ]
  },
  {
   "cell_type": "code",
   "execution_count": 26,
   "metadata": {},
   "outputs": [
    {
     "name": "stdout",
     "output_type": "stream",
     "text": [
      "Win rate^2: 0.34679012345679017\n",
      "W_2: 0.33837333333333336\n"
     ]
    }
   ],
   "source": [
    "print(f'Win rate^2: {win_rate * win_rate}')\n",
    "print(f\"W_2: {df['W_2'].mean()}\")"
   ]
  },
  {
   "cell_type": "code",
   "execution_count": 28,
   "metadata": {},
   "outputs": [
    {
     "name": "stdout",
     "output_type": "stream",
     "text": [
      "Win rate^3: 0.20422085048010977\n",
      "W_3: 0.1885933333333333\n"
     ]
    }
   ],
   "source": [
    "print(f'Win rate^3: {win_rate * win_rate * win_rate}')\n",
    "print(f\"W_3: {df['W_3'].mean()}\")"
   ]
  }
 ],
 "metadata": {
  "kernelspec": {
   "display_name": ".venv",
   "language": "python",
   "name": "python3"
  },
  "language_info": {
   "codemirror_mode": {
    "name": "ipython",
    "version": 3
   },
   "file_extension": ".py",
   "mimetype": "text/x-python",
   "name": "python",
   "nbconvert_exporter": "python",
   "pygments_lexer": "ipython3",
   "version": "3.11.0"
  },
  "orig_nbformat": 4
 },
 "nbformat": 4,
 "nbformat_minor": 2
}
