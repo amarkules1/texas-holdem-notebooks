{
 "cells": [
  {
   "cell_type": "markdown",
   "metadata": {},
   "source": [
    "Tutorial: https://www.youtube.com/playlist?list=PL58zEckBH8fCMIVzQCRSZVPUp3ZAVagWi"
   ]
  },
  {
   "cell_type": "code",
   "execution_count": 3,
   "metadata": {},
   "outputs": [],
   "source": [
    "# just running the game\n",
    "import gymnasium as gym\n",
    "import flappy_bird_gymnasium\n",
    "\n",
    "env = gym.make('FlappyBird-v0', render_mode='human', use_lidar=False)\n",
    "\n",
    "obs, _ = env.reset()\n",
    "\n",
    "while True:\n",
    "    action = env.action_space.sample()\n",
    "    obs, reward, done, _, info = env.step(action)\n",
    "    if done:\n",
    "        break\n",
    "    \n",
    "env.close()"
   ]
  },
  {
   "cell_type": "markdown",
   "metadata": {},
   "source": [
    "Video 2 notes\n",
    "A Deep Q Network is a regular deep NN - sounds like the replay stuff is outside the neural network\n",
    "\n",
    "Inputs for flappy birds are the position information for the pipes and bird,  the outputs are the Q values for flap or not - the expected reward for each action\n"
   ]
  },
  {
   "cell_type": "code",
   "execution_count": 4,
   "metadata": {},
   "outputs": [],
   "source": [
    "import torch\n",
    "import torch.nn as nn\n",
    "import torch.nn.functional as F\n",
    "\n",
    "class DQN(nn.Module):\n",
    "    def __init__(self, state_dim, action_dim, hidden_dim=256):\n",
    "        super(DQN, self).__init__()\n",
    "        # defining the layers\n",
    "        # fc1 is the transformation from state (input) to hidden layer\n",
    "        # fc2 is the transformation from hidden layer to action (output)\n",
    "        self.fc1 = nn.Linear(state_dim, hidden_dim)\n",
    "        self.fc2 = nn.Linear(hidden_dim, action_dim)\n",
    "        \n",
    "    def forward(self, x):\n",
    "        # forward pass through the network\n",
    "        x = F.relu(self.fc1(x))\n",
    "        x = self.fc2(x)\n",
    "        return x"
   ]
  },
  {
   "cell_type": "code",
   "execution_count": 8,
   "metadata": {},
   "outputs": [
    {
     "name": "stdout",
     "output_type": "stream",
     "text": [
      "tensor([[-0.7432,  1.1921, -0.3785,  0.9334,  1.3129, -1.2886, -0.4679,  0.3091,\n",
      "         -0.1712,  0.1940,  0.2843, -0.9781],\n",
      "        [-0.6122, -0.5828,  0.1675, -0.3430,  0.8718, -0.8395,  0.3988, -0.7742,\n",
      "         -0.4155, -0.0101, -0.6008, -2.0459],\n",
      "        [-0.6817, -0.8177,  1.0145,  1.8057, -1.3016, -0.1157, -1.5302,  1.6468,\n",
      "          1.5894, -1.5910, -1.2085,  0.1495],\n",
      "        [ 0.1929, -0.0856,  2.2308, -0.7415,  0.9316,  0.2523, -0.8879,  0.5740,\n",
      "         -0.9224,  0.0234,  0.9386,  0.8440],\n",
      "        [ 0.0718,  1.6999,  0.3295,  0.4061,  0.5953,  0.0145, -0.1113,  1.0412,\n",
      "         -0.2331, -0.6426,  0.8588, -0.4182],\n",
      "        [ 1.1015,  0.5450,  0.5400,  0.6448,  0.8865,  1.8591, -0.0749,  1.1033,\n",
      "          0.9859, -0.3608,  1.4454,  1.0393],\n",
      "        [ 0.0147, -0.8066, -0.6363, -1.4995,  0.7986, -0.3894, -0.4158, -1.2806,\n",
      "         -0.2191, -0.2951, -0.0492, -0.6229],\n",
      "        [ 0.2289, -1.1060, -0.3838, -1.2434, -1.7453, -1.1995, -0.0112,  0.0153,\n",
      "          0.8604, -0.2299, -1.1178, -2.3649],\n",
      "        [-0.1278,  0.0464, -1.3165,  0.3675, -0.2560, -0.4813,  0.6410, -0.0761,\n",
      "          0.7233, -0.3447,  1.5332, -0.6569],\n",
      "        [-0.0774, -0.5649,  1.1298, -0.3009, -0.3205, -0.4050, -1.0234,  0.3061,\n",
      "         -1.5326, -1.5368, -1.3846,  0.2431]])\n"
     ]
    }
   ],
   "source": [
    "# run the NN one time through\n",
    "state_dim = 12 # 12 inputs\n",
    "action_dim = 2 # 2 outputs\n",
    "net = DQN(state_dim, action_dim) # create the network\n",
    " # generate random states, first dimension is batch size (number of rand states)\n",
    "state = torch.randn(10, state_dim)\n",
    "output = net(state) # forward pass through the network\n",
    "print(state)"
   ]
  },
  {
   "cell_type": "code",
   "execution_count": null,
   "metadata": {},
   "outputs": [],
   "source": [
    "# make a class for the agent\n",
    "\n",
    "device = torch.device('cuda' if torch.cuda.is_available() else 'cpu')\n",
    "\n",
    "class Agent:\n",
    "    def run (self, is_train, render=False):\n",
    "        # run the agent\n",
    "        env = gym.make('FlappyBird-v0', render_mode='human' if render else None, use_lidar=False)\n",
    "        \n",
    "        state_dim = env.observation_space.shape[0]\n",
    "        action_dim = env.action_space.n\n",
    "        \n",
    "        policy_net = DQN(state_dim, action_dim).to_device(device)\n",
    "        \n",
    "        obs, _ = env.reset()\n",
    "        while True:\n",
    "            action = env.action_space.sample()\n",
    "            obs, reward, done, _, info = env.step(action)\n",
    "            if done:\n",
    "                break\n",
    "        env.close()"
   ]
  },
  {
   "cell_type": "markdown",
   "metadata": {},
   "source": [
    "Video 3 notes\n",
    "\n",
    "Experience replay:\n",
    "  - an experience is defined as a tuple of (state, action, reward, next_state, terminated)\n",
    "  - save these experiences in a replay buffer (first in first out)\n",
    "  - the epsilon ( $\\epsilon$ ) greedy policy is used to select the action\n",
    "    - $\\epsilon$ is the probability of selecting a random action, else the best action is selected\n",
    "    - kinda of a stochastic annealing type thing\n",
    "  "
   ]
  },
  {
   "cell_type": "code",
   "execution_count": 10,
   "metadata": {},
   "outputs": [],
   "source": [
    "# replay memory\n",
    "from collections import deque\n",
    "import random\n",
    "\n",
    "class ReplayMemory:\n",
    "    def __init__(self, capacity, seed=None):\n",
    "        self.memory = deque(maxlen=capacity)\n",
    "        if seed is not None:\n",
    "            random.seed(seed)\n",
    "        \n",
    "    def append(self, transition): # transition is a tuple of (state, action, next_state, reward, done)\n",
    "        # append a transition to the buffer\n",
    "        self.memory.append(transition)\n",
    "        \n",
    "    def sample(self, batch_size):\n",
    "        return random.sample(self.memory, batch_size)\n",
    "    \n",
    "    def __len__(self):\n",
    "        return len(self.memory)"
   ]
  },
  {
   "cell_type": "code",
   "execution_count": 11,
   "metadata": {},
   "outputs": [],
   "source": [
    "import itertools\n",
    "import yaml\n",
    "\n",
    "device = torch.device('cuda' if torch.cuda.is_available() else 'cpu')\n",
    "\n",
    "class Agent:\n",
    "    def __init__(self, hyperparam_option):\n",
    "        with open('hyperparameters.yml', 'r') as f:\n",
    "            all_hyperparams = yaml.safe_load(f)\n",
    "            self.hyperparams = all_hyperparams[hyperparam_option]\n",
    "            self.replay_memory_size = self.hyperparams['replay_memory_size'] # size of the replay memory\n",
    "            self.mini_batch_size = self.hyperparams['mini_batch_size'] # size of the training data set sampled from the replay memory\n",
    "            self.epsilon_init = self.hyperparams['epsilon_init'] # proportion of actions that are random\n",
    "            self.epsilon_decay = self.hyperparams['epsilon_decay'] # decay rate of epsilon\n",
    "            self.epsilon_min = self.hyperparams['epsilon_min'] # minimum value of epsilon\n",
    "    \n",
    "    \n",
    "    \n",
    "    def run (self, is_train, render=False):\n",
    "        # run the agent\n",
    "        env = gym.make('FlappyBird-v0', render_mode='human' if render else None, use_lidar=False)\n",
    "        \n",
    "        state_dim = env.observation_space.shape[0]\n",
    "        action_dim = env.action_space.n\n",
    "        \n",
    "        rewards_per_episode = []\n",
    "        epsilon_history = []\n",
    "        \n",
    "        policy_net = DQN(state_dim, action_dim).to_device(device)\n",
    "        \n",
    "        if is_train:\n",
    "            memory = ReplayMemory(capacity=10000)\n",
    "            epsilon = self.epsilon_init\n",
    "        \n",
    "        state, _ = env.reset()\n",
    "        \n",
    "        for episode in itertools.count():\n",
    "            episode = 0.0\n",
    "            done = False\n",
    "            while not done:\n",
    "                \n",
    "                if is_train and random.random() < epsilon:\n",
    "                    action = env.action_space.sample()\n",
    "                else:\n",
    "                    action = policy_net(state).argmax()\n",
    "                \n",
    "                new_state, reward, done, _, info = env.step(action)\n",
    "                episode += reward\n",
    "                if is_train:\n",
    "                    memory.append((state, action, new_state, reward, done))\n",
    "                    \n",
    "                state = new_state\n",
    "                \n",
    "            rewards_per_episode.append(episode)\n",
    "            \n",
    "            # in this implementation we're using a geometric decay for epsilon (taking the product of epsilon_decay and current epsilon)\n",
    "            # a linear decay is another option, decreasing epsilon by a fixed amount each episode (adjust epsilon_decay hyperparameter accordingly)\n",
    "            epsilon = max(epsilon * self.epsilon_decay, self.epsilon_min)\n",
    "            epsilon_history.append(epsilon)\n",
    "        "
   ]
  }
 ],
 "metadata": {
  "kernelspec": {
   "display_name": ".venv",
   "language": "python",
   "name": "python3"
  },
  "language_info": {
   "codemirror_mode": {
    "name": "ipython",
    "version": 3
   },
   "file_extension": ".py",
   "mimetype": "text/x-python",
   "name": "python",
   "nbconvert_exporter": "python",
   "pygments_lexer": "ipython3",
   "version": "3.11.0"
  },
  "orig_nbformat": 4
 },
 "nbformat": 4,
 "nbformat_minor": 2
}
