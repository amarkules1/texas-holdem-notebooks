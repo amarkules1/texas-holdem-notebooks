{
 "cells": [
  {
   "cell_type": "markdown",
   "metadata": {},
   "source": [
    "So we've previously figured out how to get mid-round win rates in [mid_round_win_rates.ipynb](./mid_round_win_rates.ipynb). For 2 player games, we've also figured out how to get the percentile based on these win rates (since we have roughly normal distributions for win rate values we can use those to calculate percentiles).\n",
    "\n",
    "For more than 2 players though, it stands to reason that the normal distribution assumption breaks down. For example, in a two player game, the average hand has about a 50% chance of winning at the flop, with most hands having either a slightly higher chance of winning or slightly lower, a few hands will dominate or lose consistently. in other words, the mean and median are both about 50%. In a 3 player game though, there are 2 opposing hands to beat, so the average win rate is 33%. But since it only takes losing to one other player, the median is lower, at 25%. this creates a right skewed distribution which is hard to model with simple parameters like man and standard deviation.\n",
    "\n",
    "Process here:\n",
    "1. generate sample data for 3-12 player games, gathering win rates for 1000s of random scenarios.\n",
    "2. Observe the resulting distributions and research ways to model these skewed distributions using stats.\n",
    "3. If #2 is unsuccessful, use the samples to calculate percentiles. I.E. for some known win rate and number of players, how many of the sample win rates are better/worse? use that to calculate your percentile.\n"
   ]
  },
  {
   "cell_type": "markdown",
   "metadata": {},
   "source": [
    "Note: wound up multithreading this which doesn't work in notebooks, [python file for flop](multithreaded_post_flop_win_rate_example.py)"
   ]
  },
  {
   "cell_type": "code",
   "execution_count": null,
   "metadata": {},
   "outputs": [],
   "source": []
  }
 ],
 "metadata": {
  "kernelspec": {
   "display_name": ".venv",
   "language": "python",
   "name": "python3"
  },
  "language_info": {
   "codemirror_mode": {
    "name": "ipython",
    "version": 3
   },
   "file_extension": ".py",
   "mimetype": "text/x-python",
   "name": "python",
   "nbconvert_exporter": "python",
   "pygments_lexer": "ipython3",
   "version": "3.11.0"
  }
 },
 "nbformat": 4,
 "nbformat_minor": 2
}
