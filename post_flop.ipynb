{
 "cells": [
  {
   "cell_type": "code",
   "execution_count": 4,
   "metadata": {},
   "outputs": [],
   "source": [
    "import pandas as pd\n",
    "from texas_hold_em_utils.card import Card\n",
    "from texas_hold_em_utils.deck import Deck\n",
    "from texas_hold_em_utils.game import Game\n",
    "from texas_hold_em_utils.hands import HandOfTwo"
   ]
  },
  {
   "cell_type": "code",
   "execution_count": 1,
   "metadata": {},
   "outputs": [
    {
     "data": {
      "text/plain": [
       "311875200"
      ]
     },
     "execution_count": 1,
     "metadata": {},
     "output_type": "execute_result"
    }
   ],
   "source": [
    "# for a given pair of hole cards and a given flop, what is that hand's probability of winning?\n",
    "# too many cards to break it down to suited/offsuite, so there are 52 first cards, 51 second cards, 50 third cards, 49 fourth cards, 48 fifth cards... 311 million combinations\n",
    "52*51*50*49*48\n",
    "\n",
    "# maybe go with sample win rates instead"
   ]
  },
  {
   "cell_type": "code",
   "execution_count": 20,
   "metadata": {},
   "outputs": [],
   "source": [
    "def run_game(hole_cards, flop, player_count):\n",
    "    game1 = Game(player_count)\n",
    "    deck = Deck()\n",
    "    deck.remove(hole_cards[0])\n",
    "    deck.remove(hole_cards[1])\n",
    "    deck.remove(flop[0])\n",
    "    deck.remove(flop[1])\n",
    "    deck.remove(flop[2])\n",
    "    game1.deck = deck\n",
    "    game1.community_cards = flop\n",
    "    game1.players[0].hand_of_two = HandOfTwo([hole_cards[0], hole_cards[1]])\n",
    "    deck.shuffle()\n",
    "    for i in range(1, player_count):\n",
    "        game1.players[i].hand_of_two = HandOfTwo([deck.draw(), deck.draw()])\n",
    "        \n",
    "    game1.round = 1\n",
    "    game1.turn()\n",
    "    game1.river()\n",
    "    \n",
    "    winners = game1.determine_round_winners()\n",
    "    if 0 in [winner.position for winner in winners]:\n",
    "        return 1 / len(winners)\n",
    "    return 0\n",
    "    "
   ]
  },
  {
   "cell_type": "code",
   "execution_count": 27,
   "metadata": {},
   "outputs": [
    {
     "name": "stdout",
     "output_type": "stream",
     "text": [
      "0.15013045353826512\n"
     ]
    }
   ],
   "source": [
    "# win rates seem low, and vary a lot, need to test/debug\n",
    "hole_cards = [Card().from_str('A', 'Hearts'), Card().from_str('A', 'Spades')]\n",
    "flop = [Card().from_str('4', 'Diamonds'), Card().from_str('6', 'Clubs'), Card().from_str('8', 'Spades')]\n",
    "\n",
    "win_ct = 0.0\n",
    "for i in range(60):\n",
    "    win_ct += run_game(hole_cards, flop, 3)\n",
    "    \n",
    "print(win_ct / 60)"
   ]
  }
 ],
 "metadata": {
  "kernelspec": {
   "display_name": ".venv",
   "language": "python",
   "name": "python3"
  },
  "language_info": {
   "codemirror_mode": {
    "name": "ipython",
    "version": 3
   },
   "file_extension": ".py",
   "mimetype": "text/x-python",
   "name": "python",
   "nbconvert_exporter": "python",
   "pygments_lexer": "ipython3",
   "version": "3.11.0"
  },
  "orig_nbformat": 4
 },
 "nbformat": 4,
 "nbformat_minor": 2
}
