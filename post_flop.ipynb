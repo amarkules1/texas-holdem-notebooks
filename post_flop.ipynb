{
 "cells": [
  {
   "cell_type": "code",
   "execution_count": 1,
   "metadata": {},
   "outputs": [],
   "source": [
    "import pandas as pd\n",
    "from texas_hold_em_utils.card import Card\n",
    "from texas_hold_em_utils.deck import Deck\n",
    "from texas_hold_em_utils.game import Game\n",
    "from texas_hold_em_utils.hands import HandOfTwo"
   ]
  },
  {
   "cell_type": "code",
   "execution_count": 1,
   "metadata": {},
   "outputs": [
    {
     "data": {
      "text/plain": [
       "311875200"
      ]
     },
     "execution_count": 1,
     "metadata": {},
     "output_type": "execute_result"
    }
   ],
   "source": [
    "# for a given pair of hole cards and a given flop, what is that hand's probability of winning?\n",
    "# too many cards to break it down to suited/offsuite, so there are 52 first cards, 51 second cards, 50 third cards, 49 fourth cards, 48 fifth cards... 311 million combinations\n",
    "52*51*50*49*48\n",
    "\n",
    "# maybe go with sample win rates instead"
   ]
  },
  {
   "cell_type": "code",
   "execution_count": 4,
   "metadata": {},
   "outputs": [],
   "source": [
    "def run_game(hole_cards, flop, player_count):\n",
    "    game1 = Game(player_count)\n",
    "    deck = Deck()\n",
    "    deck.remove(hole_cards[0])\n",
    "    deck.remove(hole_cards[1])\n",
    "    deck.remove(flop[0])\n",
    "    deck.remove(flop[1])\n",
    "    deck.remove(flop[2])\n",
    "    game1.deck = deck\n",
    "    game1.community_cards = flop.copy()\n",
    "    game1.players[0].hand_of_two = HandOfTwo([hole_cards[0], hole_cards[1]])\n",
    "    deck.shuffle()\n",
    "    for i in range(1, player_count):\n",
    "        game1.players[i].hand_of_two = HandOfTwo([deck.draw(), deck.draw()])\n",
    "        \n",
    "    game1.round = 1\n",
    "    game1.turn()\n",
    "    game1.river()\n",
    "    \n",
    "    winners = game1.determine_round_winners()\n",
    "    if 0 in [winner.position for winner in winners]:\n",
    "        return 1 / len(winners)\n",
    "    return 0\n",
    "    "
   ]
  },
  {
   "cell_type": "code",
   "execution_count": 12,
   "metadata": {},
   "outputs": [
    {
     "name": "stdout",
     "output_type": "stream",
     "text": [
      "0.6400069381901365\n"
     ]
    }
   ],
   "source": [
    "# win rates seem low, and vary a lot, need to test/debug\n",
    "hole_cards = [Card().from_str('A', 'Hearts'), Card().from_str('A', 'Spades')]\n",
    "flop = [Card().from_str('4', 'Diamonds'), Card().from_str('6', 'Clubs'), Card().from_str('8', 'Spades')]\n",
    "\n",
    "win_ct = 0.0\n",
    "for i in range(300):\n",
    "    win_ct += run_game(hole_cards, flop, 3)\n",
    "    \n",
    "print(win_ct / 300)"
   ]
  },
  {
   "cell_type": "code",
   "execution_count": 15,
   "metadata": {},
   "outputs": [
    {
     "name": "stderr",
     "output_type": "stream",
     "text": [
      "C:\\Users\\amarl\\AppData\\Local\\Temp\\ipykernel_34644\\4087445459.py:10: FutureWarning: The behavior of DataFrame concatenation with empty or all-NA entries is deprecated. In a future version, this will no longer exclude empty or all-NA columns when determining the result dtypes. To retain the old behavior, exclude the relevant entries before the concat operation.\n",
      "  df = pd.concat([df, pd.DataFrame([[sample_size, win_ct / sample_size]], columns=['sample_size', 'win_rate'])])\n"
     ]
    }
   ],
   "source": [
    "# now to measure variability for different sample sizes\n",
    "hole_cards = [Card().from_str('A', 'Hearts'), Card().from_str('J', 'Spades')]\n",
    "flop = [Card().from_str('4', 'Diamonds'), Card().from_str('6', 'Clubs'), Card().from_str('8', 'Spades')]\n",
    "df = pd.DataFrame(columns=['sample_size', 'win_rate'])\n",
    "for sample_size in [15, 30, 60, 120]:\n",
    "    for i in range(30):\n",
    "        win_ct = 0.0\n",
    "        for j in range(sample_size):\n",
    "            win_ct += run_game(hole_cards, flop, 3)\n",
    "        df = pd.concat([df, pd.DataFrame([[sample_size, win_ct / sample_size]], columns=['sample_size', 'win_rate'])])"
   ]
  },
  {
   "cell_type": "code",
   "execution_count": 17,
   "metadata": {},
   "outputs": [],
   "source": [
    "df.to_csv('data/win_rate_variability.csv', index=False)"
   ]
  },
  {
   "cell_type": "code",
   "execution_count": 21,
   "metadata": {},
   "outputs": [],
   "source": [
    "summary = df.groupby('sample_size', as_index=False).mean()\n",
    "summary['std_dev'] = df.groupby('sample_size', as_index=False).std()['win_rate']\n",
    "summary['ci_95_low'] = summary['win_rate'] - 1.96 * summary['std_dev'] / summary['sample_size']**0.5\n",
    "summary['ci_95_high'] = summary['win_rate'] + 1.96 * summary['std_dev'] / summary['sample_size']**0.5"
   ]
  },
  {
   "cell_type": "code",
   "execution_count": 22,
   "metadata": {},
   "outputs": [
    {
     "data": {
      "text/html": [
       "<div>\n",
       "<style scoped>\n",
       "    .dataframe tbody tr th:only-of-type {\n",
       "        vertical-align: middle;\n",
       "    }\n",
       "\n",
       "    .dataframe tbody tr th {\n",
       "        vertical-align: top;\n",
       "    }\n",
       "\n",
       "    .dataframe thead th {\n",
       "        text-align: right;\n",
       "    }\n",
       "</style>\n",
       "<table border=\"1\" class=\"dataframe\">\n",
       "  <thead>\n",
       "    <tr style=\"text-align: right;\">\n",
       "      <th></th>\n",
       "      <th>sample_size</th>\n",
       "      <th>win_rate</th>\n",
       "      <th>std_dev</th>\n",
       "      <th>ci_95_low</th>\n",
       "      <th>ci_95_high</th>\n",
       "    </tr>\n",
       "  </thead>\n",
       "  <tbody>\n",
       "    <tr>\n",
       "      <th>0</th>\n",
       "      <td>15</td>\n",
       "      <td>0.273333</td>\n",
       "      <td>0.132005</td>\n",
       "      <td>0.20653</td>\n",
       "      <td>0.340137</td>\n",
       "    </tr>\n",
       "    <tr>\n",
       "      <th>1</th>\n",
       "      <td>30</td>\n",
       "      <td>0.282223</td>\n",
       "      <td>0.071910</td>\n",
       "      <td>0.25649</td>\n",
       "      <td>0.307955</td>\n",
       "    </tr>\n",
       "    <tr>\n",
       "      <th>2</th>\n",
       "      <td>60</td>\n",
       "      <td>0.273889</td>\n",
       "      <td>0.058425</td>\n",
       "      <td>0.259105</td>\n",
       "      <td>0.288673</td>\n",
       "    </tr>\n",
       "    <tr>\n",
       "      <th>3</th>\n",
       "      <td>120</td>\n",
       "      <td>0.265278</td>\n",
       "      <td>0.042384</td>\n",
       "      <td>0.257694</td>\n",
       "      <td>0.272861</td>\n",
       "    </tr>\n",
       "  </tbody>\n",
       "</table>\n",
       "</div>"
      ],
      "text/plain": [
       "  sample_size  win_rate   std_dev ci_95_low ci_95_high\n",
       "0          15  0.273333  0.132005   0.20653   0.340137\n",
       "1          30  0.282223  0.071910   0.25649   0.307955\n",
       "2          60  0.273889  0.058425  0.259105   0.288673\n",
       "3         120  0.265278  0.042384  0.257694   0.272861"
      ]
     },
     "execution_count": 22,
     "metadata": {},
     "output_type": "execute_result"
    },
    {
     "ename": "",
     "evalue": "",
     "output_type": "error",
     "traceback": [
      "\u001b[1;31mThe Kernel crashed while executing code in the the current cell or a previous cell. Please review the code in the cell(s) to identify a possible cause of the failure. Click <a href='https://aka.ms/vscodeJupyterKernelCrash'>here</a> for more info. View Jupyter <a href='command:jupyter.viewOutput'>log</a> for further details."
     ]
    }
   ],
   "source": [
    "summary"
   ]
  }
 ],
 "metadata": {
  "kernelspec": {
   "display_name": ".venv",
   "language": "python",
   "name": "python3"
  },
  "language_info": {
   "codemirror_mode": {
    "name": "ipython",
    "version": 3
   },
   "file_extension": ".py",
   "mimetype": "text/x-python",
   "name": "python",
   "nbconvert_exporter": "python",
   "pygments_lexer": "ipython3",
   "version": "3.11.0"
  },
  "orig_nbformat": 4
 },
 "nbformat": 4,
 "nbformat_minor": 2
}
